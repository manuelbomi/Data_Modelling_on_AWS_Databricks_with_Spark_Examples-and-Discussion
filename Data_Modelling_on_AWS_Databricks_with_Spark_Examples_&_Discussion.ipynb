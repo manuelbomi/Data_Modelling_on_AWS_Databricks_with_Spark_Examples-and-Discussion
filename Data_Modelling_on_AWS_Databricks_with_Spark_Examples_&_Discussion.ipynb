{
 "cells": [
  {
   "cell_type": "code",
   "execution_count": 0,
   "metadata": {
    "application/vnd.databricks.v1+cell": {
     "cellMetadata": {
      "byteLimit": 2048000,
      "rowLimit": 10000
     },
     "inputWidgets": {},
     "nuid": "d04be1fd-a833-4cfc-b3b5-547c4173545e",
     "showTitle": false,
     "tableResultSettingsMap": {},
     "title": ""
    }
   },
   "outputs": [
    {
     "output_type": "stream",
     "name": "stdout",
     "output_type": "stream",
     "text": [
      "root\n |-- First_name: string (nullable = true)\n |-- Last_name: string (nullable = true)\n |-- Employee_ID: string (nullable = true)\n |-- Gender: string (nullable = true)\n |-- Age: string (nullable = true)\n |-- Salary_(USD): integer (nullable = true)\n |-- email_address: string (nullable = true)\n |-- Experience_(yrs): string (nullable = true)\n |-- Phone_nos: string (nullable = true)\n\n"
     ]
    }
   ],
   "source": [
    "\n",
    "import pyspark\n",
    "from pyspark.sql import SparkSession\n",
    "from pyspark.sql.types import StructType,StructField, StringType, IntegerType\n",
    "\n",
    "spark = SparkSession.builder.master(\"local[*]\") \\\n",
    "                    .appName('Data Modelling on AWS Databricks with Spark') \\\n",
    "                    .getOrCreate()\n",
    "\n",
    "employee_data2 = [(\"Emmanuel\", \"Oyekanlu\", \"6111876\", \"M\", 33,  237000,  \"manuelbomi@yahoo.com\", 11, \"640-137-0000\"),\n",
    "                  (\"Don\", \"Coder\", \"387654\", \"M\", 30,  210000,  \"python-Coder@gmail.com\", 12, \"540-543-3245\"), \n",
    "                  (\"Henry\", \"Charles\", \"3000127\", \"M\", 42,  210000,  \"massie@yahoo.com\", 7, \"127-196-5676\"),\n",
    "                  (\"Stephen\", \"Smith\", \"9087655\", \"M\", 38,  156000,  \"miutss@karen.com\", 5, \"234-112-9812\"),\n",
    "                  (\"Rose\", \"CarlyWiggle\", \"5609876\", \"F\", 24,  237000,  \"iutyrr@yahoo.com\", 18, \"876-137-0119\"),\n",
    "                  (\"Diddier\", \"Thomas\", \"6347652\", \"M\", 53,  237000,  \"potyur@yahoo.com\", 19, \"653-239-9876\"),\n",
    "                  (\"Carla\", \"Fisher\", \"9871234\", \"F\", 28,  121000,  \"tuyinmg@yahoo.com\", 3, \"555-666-9876\"),\n",
    "                  (\"Yinka\", \"Eromonsele\", \"547863\", \"F\", 29,  99500,  \"eromonsele@yahoo.com\", 12, \"652-653-0987\"),\n",
    "                  (\"Rod\", \"BiggerStewart\", \"698328\", \"M\", 54,  76500,  \"BiggerS@yahoo.com\", 12, \"640-137-0000\"),\n",
    "                  (\"Oliver\", \"Twist\", \"7652423\", \"M\", 33,  200000, \"Twister@yahoo.com\", 7, \"764-129-9009\"),\n",
    "                  (\"Moses\", \"Aaron\", \"9876543\", \"M\", 23,  186000,  \"Moses@cnn.com\", 6, \"456-987-2324\"),\n",
    "                  (\"Molly\", \"Van Modeller\", \"6487653\", \"F\", 39,  232000,  \"preacher@yahoo.com\", 8, \"765-986-2345\"),\n",
    "                  (\"Barry\", \"TightFisted\", \"7864556\", \"M\", 38,  115000,  \"boxer@yahoo.com\", 5, \"569-432-7654\"),\n",
    "                  (\"Ken\", \"Chang\", \"9845376\", \"M\", 26,  105890,  \"bongbonyahoo.com\", 10, \"434-987-1200\"),\n",
    "                  (\"Alhaji\", \"Kareem\", \"87565234\", \"M\", 44,  65000,  \"uytrew@yahoo.com\", 9, \"543-210-3400\"),\n",
    "                  (\"Islam\", \"Aboubacar\", \"8719865\", \"M\", 32,  186100,  \"westerm@yahoo.com\", 4, \"540-872-1000\"),\n",
    "                  (\"Meghan\", \"Markle\", \"7645348\", \"M\", 44,  91000,  \"Missyr@yahoo.com\", 2, \"569-349-1200\")\n",
    "                  ]\n",
    "\n",
    "\n",
    "schema_employee = StructType([ \\\n",
    "    StructField(\"First_name\",    StringType(), True), \\\n",
    "    StructField(\"Last_name\",     StringType(), True), \\\n",
    "    StructField(\"Employee_ID\",   StringType(), True), \\\n",
    "    StructField(\"Gender\",        StringType(), True), \\\n",
    "    StructField(\"Age\",           StringType(), True), \\\n",
    "    StructField(\"Salary_(USD)\",     IntegerType(), True), \\\n",
    "    StructField(\"email_address\",        StringType(), True), \\\n",
    "    StructField(\"Experience_(yrs)\",  StringType(), True), \\\n",
    "    StructField(\"Phone_nos\",           StringType(), True), \\\n",
    "                                                                             \n",
    "])\n",
    "\n",
    "df_employee = spark.createDataFrame(data=employee_data2 ,schema=schema_employee)\n",
    "df_employee.printSchema()"
   ]
  },
  {
   "cell_type": "markdown",
   "metadata": {
    "application/vnd.databricks.v1+cell": {
     "cellMetadata": {},
     "inputWidgets": {},
     "nuid": "6d050e15-674f-4791-a2ad-f010bcaa50b0",
     "showTitle": false,
     "tableResultSettingsMap": {},
     "title": ""
    }
   },
   "source": [
    "Creating Spark Dataframes\n",
    "Pyspark DataFrames are generally preferred over RDDs for most data processing tasks because of High-level abstraction, Optimization, Structured API, Schema inference and enforcement, and Integration with Spark SQL, and support for various data source\n"
   ]
  },
  {
   "cell_type": "markdown",
   "metadata": {
    "application/vnd.databricks.v1+cell": {
     "cellMetadata": {
      "byteLimit": 2048000,
      "rowLimit": 10000
     },
     "inputWidgets": {},
     "nuid": "83c9eb54-dde8-4c3c-b6b4-02a9d88bc26f",
     "showTitle": false,
     "tableResultSettingsMap": {},
     "title": ""
    }
   },
   "source": [
    "Using CreateOrReplaceTempView\n",
    "\n",
    "One of the main advantages of Apache PySpark is working with SQL along with DataFrame/Dataset API. So, if an engineer is comfortable with SQL, he/she can create a temporary view on DataFrame/Dataset by using createOrReplaceTempView() and using SQL to select and manipulate the data.\n",
    "\n",
    "createOrReplaceTempView creates (or replaces if that view name already exists) a lazily evaluated \"view\" that you can then # use like a hive table in Spark SQL. It does not persist to memory unless you cache the dataset that underpins the view.\n"
   ]
  },
  {
   "cell_type": "code",
   "execution_count": 0,
   "metadata": {
    "application/vnd.databricks.v1+cell": {
     "cellMetadata": {
      "byteLimit": 2048000,
      "rowLimit": 10000
     },
     "inputWidgets": {},
     "nuid": "7256ac3d-465c-42b8-9c7e-7cb8a5a367c1",
     "showTitle": false,
     "tableResultSettingsMap": {},
     "title": ""
    }
   },
   "outputs": [],
   "source": [
    "df_employee.createOrReplaceTempView(\"employee_data_table_name\")\n"
   ]
  },
  {
   "cell_type": "code",
   "execution_count": 0,
   "metadata": {
    "application/vnd.databricks.v1+cell": {
     "cellMetadata": {
      "byteLimit": 2048000,
      "rowLimit": 10000
     },
     "inputWidgets": {},
     "nuid": "5783b90f-cbcb-4b5a-981e-c4f144e41846",
     "showTitle": false,
     "tableResultSettingsMap": {},
     "title": ""
    }
   },
   "outputs": [
    {
     "output_type": "display_data",
     "data": {
      "text/html": [
       "<style scoped>\n",
       "  .table-result-container {\n",
       "    max-height: 300px;\n",
       "    overflow: auto;\n",
       "  }\n",
       "  table, th, td {\n",
       "    border: 1px solid black;\n",
       "    border-collapse: collapse;\n",
       "  }\n",
       "  th, td {\n",
       "    padding: 5px;\n",
       "  }\n",
       "  th {\n",
       "    text-align: left;\n",
       "  }\n",
       "</style><div class='table-result-container'><table class='table-result'><thead style='background-color: white'><tr><th>col_name</th></tr></thead><tbody><tr><td>First_name</td></tr><tr><td>Last_name</td></tr><tr><td>Employee_ID</td></tr><tr><td>Gender</td></tr><tr><td>Age</td></tr><tr><td>Salary_(USD)</td></tr><tr><td>email_address</td></tr><tr><td>Experience_(yrs)</td></tr><tr><td>Phone_nos</td></tr></tbody></table></div>"
      ]
     },
     "metadata": {
      "application/vnd.databricks.v1+output": {
       "addedWidgets": {},
       "aggData": [],
       "aggError": "",
       "aggOverflow": false,
       "aggSchema": [],
       "aggSeriesLimitReached": false,
       "aggType": "",
       "arguments": {},
       "columnCustomDisplayInfos": {},
       "data": [
        [
         "First_name"
        ],
        [
         "Last_name"
        ],
        [
         "Employee_ID"
        ],
        [
         "Gender"
        ],
        [
         "Age"
        ],
        [
         "Salary_(USD)"
        ],
        [
         "email_address"
        ],
        [
         "Experience_(yrs)"
        ],
        [
         "Phone_nos"
        ]
       ],
       "datasetInfos": [],
       "dbfsResultPath": null,
       "isJsonSchema": true,
       "metadata": {},
       "overflow": false,
       "plotOptions": {
        "customPlotOptions": {},
        "displayType": "table",
        "pivotAggregation": null,
        "pivotColumns": null,
        "xColumns": null,
        "yColumns": null
       },
       "removedWidgets": [],
       "schema": [
        {
         "metadata": "{}",
         "name": "col_name",
         "type": "\"string\""
        }
       ],
       "type": "table"
      }
     },
     "output_type": "display_data"
    }
   ],
   "source": [
    "# View all data columns from temp view\n",
    "spark.sql(\"show columns from employee_data_table_name\").display()"
   ]
  },
  {
   "cell_type": "code",
   "execution_count": 0,
   "metadata": {
    "application/vnd.databricks.v1+cell": {
     "cellMetadata": {
      "byteLimit": 2048000,
      "rowLimit": 10000
     },
     "inputWidgets": {},
     "nuid": "7b782850-911f-4b98-99e4-9df891a90e16",
     "showTitle": false,
     "tableResultSettingsMap": {},
     "title": ""
    }
   },
   "outputs": [
    {
     "output_type": "display_data",
     "data": {
      "text/html": [
       "<style scoped>\n",
       "  .table-result-container {\n",
       "    max-height: 300px;\n",
       "    overflow: auto;\n",
       "  }\n",
       "  table, th, td {\n",
       "    border: 1px solid black;\n",
       "    border-collapse: collapse;\n",
       "  }\n",
       "  th, td {\n",
       "    padding: 5px;\n",
       "  }\n",
       "  th {\n",
       "    text-align: left;\n",
       "  }\n",
       "</style><div class='table-result-container'><table class='table-result'><thead style='background-color: white'><tr><th>First_Name</th><th>Last_Name</th></tr></thead><tbody><tr><td>Emmanuel</td><td>Oyekanlu</td></tr><tr><td>Don</td><td>Coder</td></tr><tr><td>Henry</td><td>Charles</td></tr><tr><td>Stephen</td><td>Smith</td></tr><tr><td>Rose</td><td>CarlyWiggle</td></tr><tr><td>Diddier</td><td>Thomas</td></tr><tr><td>Carla</td><td>Fisher</td></tr><tr><td>Yinka</td><td>Eromonsele</td></tr><tr><td>Rod</td><td>BiggerStewart</td></tr><tr><td>Oliver</td><td>Twist</td></tr><tr><td>Moses</td><td>Aaron</td></tr><tr><td>Molly</td><td>Van Modeller</td></tr><tr><td>Barry</td><td>TightFisted</td></tr><tr><td>Ken</td><td>Chang</td></tr><tr><td>Alhaji</td><td>Kareem</td></tr><tr><td>Islam</td><td>Aboubacar</td></tr><tr><td>Meghan</td><td>Markle</td></tr></tbody></table></div>"
      ]
     },
     "metadata": {
      "application/vnd.databricks.v1+output": {
       "addedWidgets": {},
       "aggData": [],
       "aggError": "",
       "aggOverflow": false,
       "aggSchema": [],
       "aggSeriesLimitReached": false,
       "aggType": "",
       "arguments": {},
       "columnCustomDisplayInfos": {},
       "data": [
        [
         "Emmanuel",
         "Oyekanlu"
        ],
        [
         "Don",
         "Coder"
        ],
        [
         "Henry",
         "Charles"
        ],
        [
         "Stephen",
         "Smith"
        ],
        [
         "Rose",
         "CarlyWiggle"
        ],
        [
         "Diddier",
         "Thomas"
        ],
        [
         "Carla",
         "Fisher"
        ],
        [
         "Yinka",
         "Eromonsele"
        ],
        [
         "Rod",
         "BiggerStewart"
        ],
        [
         "Oliver",
         "Twist"
        ],
        [
         "Moses",
         "Aaron"
        ],
        [
         "Molly",
         "Van Modeller"
        ],
        [
         "Barry",
         "TightFisted"
        ],
        [
         "Ken",
         "Chang"
        ],
        [
         "Alhaji",
         "Kareem"
        ],
        [
         "Islam",
         "Aboubacar"
        ],
        [
         "Meghan",
         "Markle"
        ]
       ],
       "datasetInfos": [],
       "dbfsResultPath": null,
       "isJsonSchema": true,
       "metadata": {},
       "overflow": false,
       "plotOptions": {
        "customPlotOptions": {},
        "displayType": "table",
        "pivotAggregation": null,
        "pivotColumns": null,
        "xColumns": null,
        "yColumns": null
       },
       "removedWidgets": [],
       "schema": [
        {
         "metadata": "{}",
         "name": "First_Name",
         "type": "\"string\""
        },
        {
         "metadata": "{}",
         "name": "Last_Name",
         "type": "\"string\""
        }
       ],
       "type": "table"
      }
     },
     "output_type": "display_data"
    }
   ],
   "source": [
    "\n",
    "# Run SQL Query\n",
    "spark.sql(\"select First_Name, Last_Name from employee_data_table_name\").display()\n"
   ]
  },
  {
   "cell_type": "markdown",
   "metadata": {
    "application/vnd.databricks.v1+cell": {
     "cellMetadata": {
      "byteLimit": 2048000,
      "rowLimit": 10000
     },
     "inputWidgets": {},
     "nuid": "9bc72fca-6d39-4d9b-aefd-311e27e58897",
     "showTitle": false,
     "tableResultSettingsMap": {},
     "title": ""
    }
   },
   "source": [
    "If you want to have a temporary view that is shared among all sessions and keep alive until the PySpark application terminates, you can create a global temporary view using createGlobalTempView()"
   ]
  },
  {
   "cell_type": "code",
   "execution_count": 0,
   "metadata": {
    "application/vnd.databricks.v1+cell": {
     "cellMetadata": {
      "byteLimit": 2048000,
      "rowLimit": 10000
     },
     "inputWidgets": {},
     "nuid": "3eaaf5c9-9535-4df2-a69a-4b025f9df202",
     "showTitle": false,
     "tableResultSettingsMap": {},
     "title": ""
    }
   },
   "outputs": [],
   "source": [
    "# Create a Global temp view and readh some data from it\n",
    "# df_employee.createGlobalTempView(\"employee_GlobalViewdata_table_name\")\n",
    "# spark.sql(\"select Last_Name, Age from employee_GlobalViewdata_table_name\").display()\n"
   ]
  },
  {
   "cell_type": "markdown",
   "metadata": {
    "application/vnd.databricks.v1+cell": {
     "cellMetadata": {
      "byteLimit": 2048000,
      "rowLimit": 10000
     },
     "inputWidgets": {},
     "nuid": "0b1ef715-e92c-4071-a7ec-26e0893d9a4b",
     "showTitle": false,
     "tableResultSettingsMap": {},
     "title": ""
    }
   },
   "source": [
    "PySpark cache()\n",
    "\n",
    "Using the PySpark cache() method we can cache the results of transformations. Unlike persist(), cache() has no arguments to specify the storage levels because it stores in-memory only. Persist with storage-level as MEMORY-ONLY is equal to cache().\n",
    "\n",
    "\n",
    "# Syntax\n",
    "DataFrame.cache()\n"
   ]
  },
  {
   "cell_type": "code",
   "execution_count": 0,
   "metadata": {
    "application/vnd.databricks.v1+cell": {
     "cellMetadata": {
      "byteLimit": 2048000,
      "rowLimit": 10000
     },
     "inputWidgets": {},
     "nuid": "ce8d2c5f-edf5-4b9a-8e58-3ca311f66f7f",
     "showTitle": false,
     "tableResultSettingsMap": {},
     "title": ""
    }
   },
   "outputs": [
    {
     "output_type": "stream",
     "name": "stdout",
     "output_type": "stream",
     "text": [
      "Out[94]: 13"
     ]
    }
   ],
   "source": [
    "# Get only male employee data and cache it\n",
    "df_employee_male_only = df_employee.where(col(\"Gender\") ==\"M\").cache()\n",
    "\n",
    "# Get the count of the male employees from the cached data\n",
    "count_male = df_employee_male_only.count()\n",
    "count_male\n",
    "\n"
   ]
  },
  {
   "cell_type": "code",
   "execution_count": 0,
   "metadata": {
    "application/vnd.databricks.v1+cell": {
     "cellMetadata": {
      "byteLimit": 2048000,
      "rowLimit": 10000
     },
     "inputWidgets": {},
     "nuid": "e41b010f-f441-41fe-b2df-3c83eb7222f6",
     "showTitle": false,
     "tableResultSettingsMap": {},
     "title": ""
    }
   },
   "outputs": [
    {
     "output_type": "stream",
     "name": "stdout",
     "output_type": "stream",
     "text": [
      "Out[95]: 10"
     ]
    }
   ],
   "source": [
    "# Get the salary details of male employees from the cached data\n",
    "df_employee_male_only = df_employee_male_only.where(col(\"Salary_(USD)\") >= 100000)\n",
    "count_salary = df_employee_male_only.count()\n",
    "count_salary"
   ]
  },
  {
   "cell_type": "code",
   "execution_count": 0,
   "metadata": {
    "application/vnd.databricks.v1+cell": {
     "cellMetadata": {
      "byteLimit": 2048000,
      "rowLimit": 10000
     },
     "inputWidgets": {},
     "nuid": "6c58c333-4003-4afd-ae49-3ba644916f78",
     "showTitle": false,
     "tableResultSettingsMap": {},
     "title": ""
    }
   },
   "outputs": [
    {
     "output_type": "display_data",
     "data": {
      "text/html": [
       "<style scoped>\n",
       "  .table-result-container {\n",
       "    max-height: 300px;\n",
       "    overflow: auto;\n",
       "  }\n",
       "  table, th, td {\n",
       "    border: 1px solid black;\n",
       "    border-collapse: collapse;\n",
       "  }\n",
       "  th, td {\n",
       "    padding: 5px;\n",
       "  }\n",
       "  th {\n",
       "    text-align: left;\n",
       "  }\n",
       "</style><div class='table-result-container'><table class='table-result'><thead style='background-color: white'><tr><th>First_name</th><th>Last_name</th><th>Employee_ID</th><th>Gender</th><th>Age</th><th>Salary_(USD)</th><th>email_address</th><th>Experience_(yrs)</th><th>Phone_nos</th></tr></thead><tbody><tr><td>Emmanuel</td><td>Oyekanlu</td><td>6111876</td><td>M</td><td>33</td><td>237000</td><td>manuelbomi@yahoo.com</td><td>11</td><td>640-137-0000</td></tr><tr><td>Don</td><td>Coder</td><td>387654</td><td>M</td><td>30</td><td>210000</td><td>python-Coder@gmail.com</td><td>12</td><td>540-543-3245</td></tr><tr><td>Henry</td><td>Charles</td><td>3000127</td><td>M</td><td>42</td><td>210000</td><td>massie@yahoo.com</td><td>7</td><td>127-196-5676</td></tr><tr><td>Stephen</td><td>Smith</td><td>9087655</td><td>M</td><td>38</td><td>156000</td><td>miutss@karen.com</td><td>5</td><td>234-112-9812</td></tr><tr><td>Diddier</td><td>Thomas</td><td>6347652</td><td>M</td><td>53</td><td>237000</td><td>potyur@yahoo.com</td><td>19</td><td>653-239-9876</td></tr><tr><td>Oliver</td><td>Twist</td><td>7652423</td><td>M</td><td>33</td><td>200000</td><td>Twister@yahoo.com</td><td>7</td><td>764-129-9009</td></tr><tr><td>Moses</td><td>Aaron</td><td>9876543</td><td>M</td><td>23</td><td>186000</td><td>Moses@cnn.com</td><td>6</td><td>456-987-2324</td></tr><tr><td>Barry</td><td>TightFisted</td><td>7864556</td><td>M</td><td>38</td><td>115000</td><td>boxer@yahoo.com</td><td>5</td><td>569-432-7654</td></tr><tr><td>Ken</td><td>Chang</td><td>9845376</td><td>M</td><td>26</td><td>105890</td><td>bongbonyahoo.com</td><td>10</td><td>434-987-1200</td></tr><tr><td>Islam</td><td>Aboubacar</td><td>8719865</td><td>M</td><td>32</td><td>186100</td><td>westerm@yahoo.com</td><td>4</td><td>540-872-1000</td></tr></tbody></table></div>"
      ]
     },
     "metadata": {
      "application/vnd.databricks.v1+output": {
       "addedWidgets": {},
       "aggData": [],
       "aggError": "",
       "aggOverflow": false,
       "aggSchema": [],
       "aggSeriesLimitReached": false,
       "aggType": "",
       "arguments": {},
       "columnCustomDisplayInfos": {},
       "data": [
        [
         "Emmanuel",
         "Oyekanlu",
         "6111876",
         "M",
         "33",
         237000,
         "manuelbomi@yahoo.com",
         "11",
         "640-137-0000"
        ],
        [
         "Don",
         "Coder",
         "387654",
         "M",
         "30",
         210000,
         "python-Coder@gmail.com",
         "12",
         "540-543-3245"
        ],
        [
         "Henry",
         "Charles",
         "3000127",
         "M",
         "42",
         210000,
         "massie@yahoo.com",
         "7",
         "127-196-5676"
        ],
        [
         "Stephen",
         "Smith",
         "9087655",
         "M",
         "38",
         156000,
         "miutss@karen.com",
         "5",
         "234-112-9812"
        ],
        [
         "Diddier",
         "Thomas",
         "6347652",
         "M",
         "53",
         237000,
         "potyur@yahoo.com",
         "19",
         "653-239-9876"
        ],
        [
         "Oliver",
         "Twist",
         "7652423",
         "M",
         "33",
         200000,
         "Twister@yahoo.com",
         "7",
         "764-129-9009"
        ],
        [
         "Moses",
         "Aaron",
         "9876543",
         "M",
         "23",
         186000,
         "Moses@cnn.com",
         "6",
         "456-987-2324"
        ],
        [
         "Barry",
         "TightFisted",
         "7864556",
         "M",
         "38",
         115000,
         "boxer@yahoo.com",
         "5",
         "569-432-7654"
        ],
        [
         "Ken",
         "Chang",
         "9845376",
         "M",
         "26",
         105890,
         "bongbonyahoo.com",
         "10",
         "434-987-1200"
        ],
        [
         "Islam",
         "Aboubacar",
         "8719865",
         "M",
         "32",
         186100,
         "westerm@yahoo.com",
         "4",
         "540-872-1000"
        ]
       ],
       "datasetInfos": [],
       "dbfsResultPath": null,
       "isJsonSchema": true,
       "metadata": {},
       "overflow": false,
       "plotOptions": {
        "customPlotOptions": {},
        "displayType": "table",
        "pivotAggregation": null,
        "pivotColumns": null,
        "xColumns": null,
        "yColumns": null
       },
       "removedWidgets": [],
       "schema": [
        {
         "metadata": "{}",
         "name": "First_name",
         "type": "\"string\""
        },
        {
         "metadata": "{}",
         "name": "Last_name",
         "type": "\"string\""
        },
        {
         "metadata": "{}",
         "name": "Employee_ID",
         "type": "\"string\""
        },
        {
         "metadata": "{}",
         "name": "Gender",
         "type": "\"string\""
        },
        {
         "metadata": "{}",
         "name": "Age",
         "type": "\"string\""
        },
        {
         "metadata": "{}",
         "name": "Salary_(USD)",
         "type": "\"integer\""
        },
        {
         "metadata": "{}",
         "name": "email_address",
         "type": "\"string\""
        },
        {
         "metadata": "{}",
         "name": "Experience_(yrs)",
         "type": "\"string\""
        },
        {
         "metadata": "{}",
         "name": "Phone_nos",
         "type": "\"string\""
        }
       ],
       "type": "table"
      }
     },
     "output_type": "display_data"
    }
   ],
   "source": [
    "df_employee_male_only.display()"
   ]
  },
  {
   "cell_type": "code",
   "execution_count": 0,
   "metadata": {
    "application/vnd.databricks.v1+cell": {
     "cellMetadata": {
      "byteLimit": 2048000,
      "rowLimit": 10000
     },
     "inputWidgets": {},
     "nuid": "c4e0c1a8-9417-412a-9d30-86a207dd4250",
     "showTitle": false,
     "tableResultSettingsMap": {},
     "title": ""
    }
   },
   "outputs": [
    {
     "output_type": "stream",
     "name": "stdout",
     "output_type": "stream",
     "text": [
      "root\n |-- First_name: string (nullable = true)\n |-- Last_name: string (nullable = true)\n |-- Employee_ID: string (nullable = true)\n |-- Gender: string (nullable = true)\n |-- Age: string (nullable = true)\n |-- Salary_(USD): integer (nullable = true)\n |-- email_address: string (nullable = true)\n |-- Experience_(yrs): string (nullable = true)\n |-- Phone_nos: string (nullable = true)\n\n"
     ]
    }
   ],
   "source": [
    "# another employee data\n",
    "another_employee_data = [(\"Casey\", \"Donner\", \"1876\", \"M\", 44,  237000,  \"maryl@yahoo.com\", 2, \"819-137-060\"),\n",
    "                  (\"MariGold\", \"Joelyn\", \"387654\", \"F\", 32,  219870,  \"eryl@gmail.com\", 34, \"540-543-3785\"), \n",
    "                  (\"Katie\", \"Henshaw\", \"304127\", \"F\", 39,  20340,  \"Kahenshaw@yahoo.com\", 5, \"497-196-476\"),\n",
    "                  (\"Derrick\", \"Smith\", \"87655\", \"M\", 38,  100000,  \"gh@karen.com\", 5, \"674-112-962\"),\n",
    "                  (\"Debbie\", \"Aaron\", \"5667876\", \"F\", 27,  115000,  \"morel@yahoo.com\", 34, \"496-47-7919\"),\n",
    "                  (\"Rex\", \"Migler\", \"6647652\", \"M\", 23,  567000,  \"pouhgr@yahoo.com\", 56, \"883-239-7776\"),\n",
    "                 \n",
    "                  ]\n",
    "\n",
    "\n",
    "schema_employee = StructType([ \\\n",
    "    StructField(\"First_name\",    StringType(), True), \\\n",
    "    StructField(\"Last_name\",     StringType(), True), \\\n",
    "    StructField(\"Employee_ID\",   StringType(), True), \\\n",
    "    StructField(\"Gender\",        StringType(), True), \\\n",
    "    StructField(\"Age\",           StringType(), True), \\\n",
    "    StructField(\"Salary_(USD)\",     IntegerType(), True), \\\n",
    "    StructField(\"email_address\",        StringType(), True), \\\n",
    "    StructField(\"Experience_(yrs)\",  StringType(), True), \\\n",
    "    StructField(\"Phone_nos\",           StringType(), True), \\\n",
    "                                                                             \n",
    "])\n",
    "\n",
    "another_employee_data = spark.createDataFrame(data=another_employee_data ,schema=schema_employee)\n",
    "another_employee_data.printSchema()"
   ]
  },
  {
   "cell_type": "code",
   "execution_count": 0,
   "metadata": {
    "application/vnd.databricks.v1+cell": {
     "cellMetadata": {
      "byteLimit": 2048000,
      "rowLimit": 10000
     },
     "inputWidgets": {},
     "nuid": "fccb0bf5-a01a-410d-a120-a26ebffdd03b",
     "showTitle": false,
     "tableResultSettingsMap": {},
     "title": ""
    }
   },
   "outputs": [
    {
     "output_type": "display_data",
     "data": {
      "text/html": [
       "<style scoped>\n",
       "  .table-result-container {\n",
       "    max-height: 300px;\n",
       "    overflow: auto;\n",
       "  }\n",
       "  table, th, td {\n",
       "    border: 1px solid black;\n",
       "    border-collapse: collapse;\n",
       "  }\n",
       "  th, td {\n",
       "    padding: 5px;\n",
       "  }\n",
       "  th {\n",
       "    text-align: left;\n",
       "  }\n",
       "</style><div class='table-result-container'><table class='table-result'><thead style='background-color: white'><tr><th>First_name</th><th>Last_name</th><th>Employee_ID</th><th>Gender</th><th>Age</th><th>Salary_(USD)</th><th>email_address</th><th>Experience_(yrs)</th><th>Phone_nos</th></tr></thead><tbody><tr><td>Casey</td><td>Donner</td><td>1876</td><td>M</td><td>44</td><td>237000</td><td>maryl@yahoo.com</td><td>2</td><td>819-137-060</td></tr><tr><td>MariGold</td><td>Joelyn</td><td>387654</td><td>F</td><td>32</td><td>219870</td><td>eryl@gmail.com</td><td>34</td><td>540-543-3785</td></tr><tr><td>Katie</td><td>Henshaw</td><td>304127</td><td>F</td><td>39</td><td>20340</td><td>Kahenshaw@yahoo.com</td><td>5</td><td>497-196-476</td></tr><tr><td>Derrick</td><td>Smith</td><td>87655</td><td>M</td><td>38</td><td>100000</td><td>gh@karen.com</td><td>5</td><td>674-112-962</td></tr><tr><td>Debbie</td><td>Aaron</td><td>5667876</td><td>F</td><td>27</td><td>115000</td><td>morel@yahoo.com</td><td>34</td><td>496-47-7919</td></tr><tr><td>Rex</td><td>Migler</td><td>6647652</td><td>M</td><td>23</td><td>567000</td><td>pouhgr@yahoo.com</td><td>56</td><td>883-239-7776</td></tr></tbody></table></div>"
      ]
     },
     "metadata": {
      "application/vnd.databricks.v1+output": {
       "addedWidgets": {},
       "aggData": [],
       "aggError": "",
       "aggOverflow": false,
       "aggSchema": [],
       "aggSeriesLimitReached": false,
       "aggType": "",
       "arguments": {},
       "columnCustomDisplayInfos": {},
       "data": [
        [
         "Casey",
         "Donner",
         "1876",
         "M",
         "44",
         237000,
         "maryl@yahoo.com",
         "2",
         "819-137-060"
        ],
        [
         "MariGold",
         "Joelyn",
         "387654",
         "F",
         "32",
         219870,
         "eryl@gmail.com",
         "34",
         "540-543-3785"
        ],
        [
         "Katie",
         "Henshaw",
         "304127",
         "F",
         "39",
         20340,
         "Kahenshaw@yahoo.com",
         "5",
         "497-196-476"
        ],
        [
         "Derrick",
         "Smith",
         "87655",
         "M",
         "38",
         100000,
         "gh@karen.com",
         "5",
         "674-112-962"
        ],
        [
         "Debbie",
         "Aaron",
         "5667876",
         "F",
         "27",
         115000,
         "morel@yahoo.com",
         "34",
         "496-47-7919"
        ],
        [
         "Rex",
         "Migler",
         "6647652",
         "M",
         "23",
         567000,
         "pouhgr@yahoo.com",
         "56",
         "883-239-7776"
        ]
       ],
       "datasetInfos": [],
       "dbfsResultPath": null,
       "isJsonSchema": true,
       "metadata": {},
       "overflow": false,
       "plotOptions": {
        "customPlotOptions": {},
        "displayType": "table",
        "pivotAggregation": null,
        "pivotColumns": null,
        "xColumns": null,
        "yColumns": null
       },
       "removedWidgets": [],
       "schema": [
        {
         "metadata": "{}",
         "name": "First_name",
         "type": "\"string\""
        },
        {
         "metadata": "{}",
         "name": "Last_name",
         "type": "\"string\""
        },
        {
         "metadata": "{}",
         "name": "Employee_ID",
         "type": "\"string\""
        },
        {
         "metadata": "{}",
         "name": "Gender",
         "type": "\"string\""
        },
        {
         "metadata": "{}",
         "name": "Age",
         "type": "\"string\""
        },
        {
         "metadata": "{}",
         "name": "Salary_(USD)",
         "type": "\"integer\""
        },
        {
         "metadata": "{}",
         "name": "email_address",
         "type": "\"string\""
        },
        {
         "metadata": "{}",
         "name": "Experience_(yrs)",
         "type": "\"string\""
        },
        {
         "metadata": "{}",
         "name": "Phone_nos",
         "type": "\"string\""
        }
       ],
       "type": "table"
      }
     },
     "output_type": "display_data"
    }
   ],
   "source": [
    "another_employee_data.display()"
   ]
  },
  {
   "cell_type": "code",
   "execution_count": 0,
   "metadata": {
    "application/vnd.databricks.v1+cell": {
     "cellMetadata": {
      "byteLimit": 2048000,
      "rowLimit": 10000
     },
     "inputWidgets": {},
     "nuid": "83e9ff19-2740-4a81-adeb-c4e62a7ee8e4",
     "showTitle": false,
     "tableResultSettingsMap": {},
     "title": ""
    }
   },
   "outputs": [
    {
     "output_type": "stream",
     "name": "stdout",
     "output_type": "stream",
     "text": [
      "+----------+-------------+-----------+------+---+------------+----------------------+----------------+------------+\n|First_name|Last_name    |Employee_ID|Gender|Age|Salary_(USD)|email_address         |Experience_(yrs)|Phone_nos   |\n+----------+-------------+-----------+------+---+------------+----------------------+----------------+------------+\n|Emmanuel  |Oyekanlu     |6111876    |M     |33 |237000      |manuelbomi@yahoo.com  |11              |640-137-0000|\n|Don       |Coder        |387654     |M     |30 |210000      |python-Coder@gmail.com|12              |540-543-3245|\n|Henry     |Charles      |3000127    |M     |42 |210000      |massie@yahoo.com      |7               |127-196-5676|\n|Stephen   |Smith        |9087655    |M     |38 |156000      |miutss@karen.com      |5               |234-112-9812|\n|Rose      |CarlyWiggle  |5609876    |F     |24 |237000      |iutyrr@yahoo.com      |18              |876-137-0119|\n|Diddier   |Thomas       |6347652    |M     |53 |237000      |potyur@yahoo.com      |19              |653-239-9876|\n|Carla     |Fisher       |9871234    |F     |28 |121000      |tuyinmg@yahoo.com     |3               |555-666-9876|\n|Yinka     |Eromonsele   |547863     |F     |29 |99500       |eromonsele@yahoo.com  |12              |652-653-0987|\n|Rod       |BiggerStewart|698328     |M     |54 |76500       |BiggerS@yahoo.com     |12              |640-137-0000|\n|Oliver    |Twist        |7652423    |M     |33 |200000      |Twister@yahoo.com     |7               |764-129-9009|\n|Moses     |Aaron        |9876543    |M     |23 |186000      |Moses@cnn.com         |6               |456-987-2324|\n|Molly     |Van Modeller |6487653    |F     |39 |232000      |preacher@yahoo.com    |8               |765-986-2345|\n|Barry     |TightFisted  |7864556    |M     |38 |115000      |boxer@yahoo.com       |5               |569-432-7654|\n|Ken       |Chang        |9845376    |M     |26 |105890      |bongbonyahoo.com      |10              |434-987-1200|\n|Alhaji    |Kareem       |87565234   |M     |44 |65000       |uytrew@yahoo.com      |9               |543-210-3400|\n|Islam     |Aboubacar    |8719865    |M     |32 |186100      |westerm@yahoo.com     |4               |540-872-1000|\n|Meghan    |Markle       |7645348    |M     |44 |91000       |Missyr@yahoo.com      |2               |569-349-1200|\n+----------+-------------+-----------+------+---+------------+----------------------+----------------+------------+\n\n"
     ]
    }
   ],
   "source": [
    "df_employee.show(truncate=False)"
   ]
  },
  {
   "cell_type": "markdown",
   "metadata": {
    "application/vnd.databricks.v1+cell": {
     "cellMetadata": {},
     "inputWidgets": {},
     "nuid": "a66efd80-678f-41a5-a7a7-ef23df9411fd",
     "showTitle": false,
     "tableResultSettingsMap": {},
     "title": ""
    }
   },
   "source": [
    "Using User-Defined Functions (UDFs)"
   ]
  },
  {
   "cell_type": "code",
   "execution_count": 0,
   "metadata": {
    "application/vnd.databricks.v1+cell": {
     "cellMetadata": {
      "byteLimit": 2048000,
      "rowLimit": 10000
     },
     "inputWidgets": {},
     "nuid": "1cc216cf-ef8b-4bf7-b6ab-0f39b76eb73d",
     "showTitle": false,
     "tableResultSettingsMap": {},
     "title": ""
    }
   },
   "outputs": [
    {
     "output_type": "display_data",
     "data": {
      "text/html": [
       "<style scoped>\n",
       "  .table-result-container {\n",
       "    max-height: 300px;\n",
       "    overflow: auto;\n",
       "  }\n",
       "  table, th, td {\n",
       "    border: 1px solid black;\n",
       "    border-collapse: collapse;\n",
       "  }\n",
       "  th, td {\n",
       "    padding: 5px;\n",
       "  }\n",
       "  th {\n",
       "    text-align: left;\n",
       "  }\n",
       "</style><div class='table-result-container'><table class='table-result'><thead style='background-color: white'><tr><th>First_name</th><th>Last_name</th><th>Employee_ID</th><th>Gender</th><th>Age</th><th>Salary_(USD)</th><th>email_address</th><th>Experience_(yrs)</th><th>Phone_nos</th><th>another_column_using_udf</th></tr></thead><tbody><tr><td>Emmanuel</td><td>Oyekanlu</td><td>6111876</td><td>M</td><td>33</td><td>237000</td><td>manuelbomi@yahoo.com</td><td>11</td><td>640-137-0000</td><td>20</td></tr><tr><td>Don</td><td>Coder</td><td>387654</td><td>M</td><td>30</td><td>210000</td><td>python-Coder@gmail.com</td><td>12</td><td>540-543-3245</td><td>20</td></tr><tr><td>Henry</td><td>Charles</td><td>3000127</td><td>M</td><td>42</td><td>210000</td><td>massie@yahoo.com</td><td>7</td><td>127-196-5676</td><td>20</td></tr><tr><td>Stephen</td><td>Smith</td><td>9087655</td><td>M</td><td>38</td><td>156000</td><td>miutss@karen.com</td><td>5</td><td>234-112-9812</td><td>20</td></tr><tr><td>Rose</td><td>CarlyWiggle</td><td>5609876</td><td>F</td><td>24</td><td>237000</td><td>iutyrr@yahoo.com</td><td>18</td><td>876-137-0119</td><td>30</td></tr><tr><td>Diddier</td><td>Thomas</td><td>6347652</td><td>M</td><td>53</td><td>237000</td><td>potyur@yahoo.com</td><td>19</td><td>653-239-9876</td><td>20</td></tr><tr><td>Carla</td><td>Fisher</td><td>9871234</td><td>F</td><td>28</td><td>121000</td><td>tuyinmg@yahoo.com</td><td>3</td><td>555-666-9876</td><td>30</td></tr><tr><td>Yinka</td><td>Eromonsele</td><td>547863</td><td>F</td><td>29</td><td>99500</td><td>eromonsele@yahoo.com</td><td>12</td><td>652-653-0987</td><td>30</td></tr><tr><td>Rod</td><td>BiggerStewart</td><td>698328</td><td>M</td><td>54</td><td>76500</td><td>BiggerS@yahoo.com</td><td>12</td><td>640-137-0000</td><td>20</td></tr><tr><td>Oliver</td><td>Twist</td><td>7652423</td><td>M</td><td>33</td><td>200000</td><td>Twister@yahoo.com</td><td>7</td><td>764-129-9009</td><td>20</td></tr><tr><td>Moses</td><td>Aaron</td><td>9876543</td><td>M</td><td>23</td><td>186000</td><td>Moses@cnn.com</td><td>6</td><td>456-987-2324</td><td>20</td></tr><tr><td>Molly</td><td>Van Modeller</td><td>6487653</td><td>F</td><td>39</td><td>232000</td><td>preacher@yahoo.com</td><td>8</td><td>765-986-2345</td><td>30</td></tr><tr><td>Barry</td><td>TightFisted</td><td>7864556</td><td>M</td><td>38</td><td>115000</td><td>boxer@yahoo.com</td><td>5</td><td>569-432-7654</td><td>20</td></tr><tr><td>Ken</td><td>Chang</td><td>9845376</td><td>M</td><td>26</td><td>105890</td><td>bongbonyahoo.com</td><td>10</td><td>434-987-1200</td><td>20</td></tr><tr><td>Alhaji</td><td>Kareem</td><td>87565234</td><td>M</td><td>44</td><td>65000</td><td>uytrew@yahoo.com</td><td>9</td><td>543-210-3400</td><td>20</td></tr><tr><td>Islam</td><td>Aboubacar</td><td>8719865</td><td>M</td><td>32</td><td>186100</td><td>westerm@yahoo.com</td><td>4</td><td>540-872-1000</td><td>20</td></tr><tr><td>Meghan</td><td>Markle</td><td>7645348</td><td>M</td><td>44</td><td>91000</td><td>Missyr@yahoo.com</td><td>2</td><td>569-349-1200</td><td>20</td></tr></tbody></table></div>"
      ]
     },
     "metadata": {
      "application/vnd.databricks.v1+output": {
       "addedWidgets": {},
       "aggData": [],
       "aggError": "",
       "aggOverflow": false,
       "aggSchema": [],
       "aggSeriesLimitReached": false,
       "aggType": "",
       "arguments": {},
       "columnCustomDisplayInfos": {},
       "data": [
        [
         "Emmanuel",
         "Oyekanlu",
         "6111876",
         "M",
         "33",
         237000,
         "manuelbomi@yahoo.com",
         "11",
         "640-137-0000",
         20
        ],
        [
         "Don",
         "Coder",
         "387654",
         "M",
         "30",
         210000,
         "python-Coder@gmail.com",
         "12",
         "540-543-3245",
         20
        ],
        [
         "Henry",
         "Charles",
         "3000127",
         "M",
         "42",
         210000,
         "massie@yahoo.com",
         "7",
         "127-196-5676",
         20
        ],
        [
         "Stephen",
         "Smith",
         "9087655",
         "M",
         "38",
         156000,
         "miutss@karen.com",
         "5",
         "234-112-9812",
         20
        ],
        [
         "Rose",
         "CarlyWiggle",
         "5609876",
         "F",
         "24",
         237000,
         "iutyrr@yahoo.com",
         "18",
         "876-137-0119",
         30
        ],
        [
         "Diddier",
         "Thomas",
         "6347652",
         "M",
         "53",
         237000,
         "potyur@yahoo.com",
         "19",
         "653-239-9876",
         20
        ],
        [
         "Carla",
         "Fisher",
         "9871234",
         "F",
         "28",
         121000,
         "tuyinmg@yahoo.com",
         "3",
         "555-666-9876",
         30
        ],
        [
         "Yinka",
         "Eromonsele",
         "547863",
         "F",
         "29",
         99500,
         "eromonsele@yahoo.com",
         "12",
         "652-653-0987",
         30
        ],
        [
         "Rod",
         "BiggerStewart",
         "698328",
         "M",
         "54",
         76500,
         "BiggerS@yahoo.com",
         "12",
         "640-137-0000",
         20
        ],
        [
         "Oliver",
         "Twist",
         "7652423",
         "M",
         "33",
         200000,
         "Twister@yahoo.com",
         "7",
         "764-129-9009",
         20
        ],
        [
         "Moses",
         "Aaron",
         "9876543",
         "M",
         "23",
         186000,
         "Moses@cnn.com",
         "6",
         "456-987-2324",
         20
        ],
        [
         "Molly",
         "Van Modeller",
         "6487653",
         "F",
         "39",
         232000,
         "preacher@yahoo.com",
         "8",
         "765-986-2345",
         30
        ],
        [
         "Barry",
         "TightFisted",
         "7864556",
         "M",
         "38",
         115000,
         "boxer@yahoo.com",
         "5",
         "569-432-7654",
         20
        ],
        [
         "Ken",
         "Chang",
         "9845376",
         "M",
         "26",
         105890,
         "bongbonyahoo.com",
         "10",
         "434-987-1200",
         20
        ],
        [
         "Alhaji",
         "Kareem",
         "87565234",
         "M",
         "44",
         65000,
         "uytrew@yahoo.com",
         "9",
         "543-210-3400",
         20
        ],
        [
         "Islam",
         "Aboubacar",
         "8719865",
         "M",
         "32",
         186100,
         "westerm@yahoo.com",
         "4",
         "540-872-1000",
         20
        ],
        [
         "Meghan",
         "Markle",
         "7645348",
         "M",
         "44",
         91000,
         "Missyr@yahoo.com",
         "2",
         "569-349-1200",
         20
        ]
       ],
       "datasetInfos": [],
       "dbfsResultPath": null,
       "isJsonSchema": true,
       "metadata": {},
       "overflow": false,
       "plotOptions": {
        "customPlotOptions": {},
        "displayType": "table",
        "pivotAggregation": null,
        "pivotColumns": null,
        "xColumns": null,
        "yColumns": null
       },
       "removedWidgets": [],
       "schema": [
        {
         "metadata": "{}",
         "name": "First_name",
         "type": "\"string\""
        },
        {
         "metadata": "{}",
         "name": "Last_name",
         "type": "\"string\""
        },
        {
         "metadata": "{}",
         "name": "Employee_ID",
         "type": "\"string\""
        },
        {
         "metadata": "{}",
         "name": "Gender",
         "type": "\"string\""
        },
        {
         "metadata": "{}",
         "name": "Age",
         "type": "\"string\""
        },
        {
         "metadata": "{}",
         "name": "Salary_(USD)",
         "type": "\"integer\""
        },
        {
         "metadata": "{}",
         "name": "email_address",
         "type": "\"string\""
        },
        {
         "metadata": "{}",
         "name": "Experience_(yrs)",
         "type": "\"string\""
        },
        {
         "metadata": "{}",
         "name": "Phone_nos",
         "type": "\"string\""
        },
        {
         "metadata": "{}",
         "name": "another_column_using_udf",
         "type": "\"integer\""
        }
       ],
       "type": "table"
      }
     },
     "output_type": "display_data"
    }
   ],
   "source": [
    "## Using User Defined Function\n",
    "# Define some arbitrary function that will be used to encode a new column\n",
    "# from pyspark.sql.functions import udf\n",
    "\n",
    "def encode_employee_gender_age(gender, age):\n",
    "    \n",
    "    if gender == \"M\":\n",
    "        return 20\n",
    "    elif gender == \"F\":\n",
    "        return 30\n",
    "    elif age < 20 :\n",
    "        return 40\n",
    "    else:\n",
    "        return 0\n",
    "# Convert to udf function and model the new column as an integer type column\n",
    "function_with_udf = udf(f= encode_employee_gender_age, returnType= IntegerType())\n",
    "# Create new column\n",
    "updated_employee_data = df_employee.withColumn(\"another_column_using_udf\", \n",
    "                                             function_with_udf(df_employee[\"Gender\"], \n",
    "                                                               df_employee[\"Age\"]))\n",
    "\n",
    "updated_employee_data.display()"
   ]
  },
  {
   "cell_type": "markdown",
   "metadata": {
    "application/vnd.databricks.v1+cell": {
     "cellMetadata": {},
     "inputWidgets": {},
     "nuid": "ed84a039-9972-4821-852a-fbebc8f9b45d",
     "showTitle": false,
     "tableResultSettingsMap": {},
     "title": ""
    }
   },
   "source": [
    "Sorting, Ordering and Joining Data"
   ]
  },
  {
   "cell_type": "code",
   "execution_count": 0,
   "metadata": {
    "application/vnd.databricks.v1+cell": {
     "cellMetadata": {
      "byteLimit": 2048000,
      "rowLimit": 10000
     },
     "inputWidgets": {},
     "nuid": "fbf72019-cb19-4790-9a43-b4ae849e0576",
     "showTitle": false,
     "tableResultSettingsMap": {},
     "title": ""
    }
   },
   "outputs": [
    {
     "output_type": "display_data",
     "data": {
      "text/html": [
       "<style scoped>\n",
       "  .table-result-container {\n",
       "    max-height: 300px;\n",
       "    overflow: auto;\n",
       "  }\n",
       "  table, th, td {\n",
       "    border: 1px solid black;\n",
       "    border-collapse: collapse;\n",
       "  }\n",
       "  th, td {\n",
       "    padding: 5px;\n",
       "  }\n",
       "  th {\n",
       "    text-align: left;\n",
       "  }\n",
       "</style><div class='table-result-container'><table class='table-result'><thead style='background-color: white'><tr><th>First_name</th><th>Last_name</th><th>Employee_ID</th><th>Gender</th><th>Age</th><th>Salary_(USD)</th><th>email_address</th><th>Experience_(yrs)</th><th>Phone_nos</th></tr></thead><tbody><tr><td>Moses</td><td>Aaron</td><td>9876543</td><td>M</td><td>23</td><td>186000</td><td>Moses@cnn.com</td><td>6</td><td>456-987-2324</td></tr><tr><td>Rose</td><td>CarlyWiggle</td><td>5609876</td><td>F</td><td>24</td><td>237000</td><td>iutyrr@yahoo.com</td><td>18</td><td>876-137-0119</td></tr><tr><td>Ken</td><td>Chang</td><td>9845376</td><td>M</td><td>26</td><td>105890</td><td>bongbonyahoo.com</td><td>10</td><td>434-987-1200</td></tr><tr><td>Carla</td><td>Fisher</td><td>9871234</td><td>F</td><td>28</td><td>121000</td><td>tuyinmg@yahoo.com</td><td>3</td><td>555-666-9876</td></tr><tr><td>Yinka</td><td>Eromonsele</td><td>547863</td><td>F</td><td>29</td><td>99500</td><td>eromonsele@yahoo.com</td><td>12</td><td>652-653-0987</td></tr><tr><td>Don</td><td>Coder</td><td>387654</td><td>M</td><td>30</td><td>210000</td><td>python-Coder@gmail.com</td><td>12</td><td>540-543-3245</td></tr><tr><td>Islam</td><td>Aboubacar</td><td>8719865</td><td>M</td><td>32</td><td>186100</td><td>westerm@yahoo.com</td><td>4</td><td>540-872-1000</td></tr><tr><td>Emmanuel</td><td>Oyekanlu</td><td>6111876</td><td>M</td><td>33</td><td>237000</td><td>manuelbomi@yahoo.com</td><td>11</td><td>640-137-0000</td></tr><tr><td>Oliver</td><td>Twist</td><td>7652423</td><td>M</td><td>33</td><td>200000</td><td>Twister@yahoo.com</td><td>7</td><td>764-129-9009</td></tr><tr><td>Barry</td><td>TightFisted</td><td>7864556</td><td>M</td><td>38</td><td>115000</td><td>boxer@yahoo.com</td><td>5</td><td>569-432-7654</td></tr><tr><td>Stephen</td><td>Smith</td><td>9087655</td><td>M</td><td>38</td><td>156000</td><td>miutss@karen.com</td><td>5</td><td>234-112-9812</td></tr><tr><td>Molly</td><td>Van Modeller</td><td>6487653</td><td>F</td><td>39</td><td>232000</td><td>preacher@yahoo.com</td><td>8</td><td>765-986-2345</td></tr><tr><td>Henry</td><td>Charles</td><td>3000127</td><td>M</td><td>42</td><td>210000</td><td>massie@yahoo.com</td><td>7</td><td>127-196-5676</td></tr><tr><td>Alhaji</td><td>Kareem</td><td>87565234</td><td>M</td><td>44</td><td>65000</td><td>uytrew@yahoo.com</td><td>9</td><td>543-210-3400</td></tr><tr><td>Meghan</td><td>Markle</td><td>7645348</td><td>M</td><td>44</td><td>91000</td><td>Missyr@yahoo.com</td><td>2</td><td>569-349-1200</td></tr><tr><td>Diddier</td><td>Thomas</td><td>6347652</td><td>M</td><td>53</td><td>237000</td><td>potyur@yahoo.com</td><td>19</td><td>653-239-9876</td></tr><tr><td>Rod</td><td>BiggerStewart</td><td>698328</td><td>M</td><td>54</td><td>76500</td><td>BiggerS@yahoo.com</td><td>12</td><td>640-137-0000</td></tr></tbody></table></div>"
      ]
     },
     "metadata": {
      "application/vnd.databricks.v1+output": {
       "addedWidgets": {},
       "aggData": [],
       "aggError": "",
       "aggOverflow": false,
       "aggSchema": [],
       "aggSeriesLimitReached": false,
       "aggType": "",
       "arguments": {},
       "columnCustomDisplayInfos": {},
       "data": [
        [
         "Moses",
         "Aaron",
         "9876543",
         "M",
         "23",
         186000,
         "Moses@cnn.com",
         "6",
         "456-987-2324"
        ],
        [
         "Rose",
         "CarlyWiggle",
         "5609876",
         "F",
         "24",
         237000,
         "iutyrr@yahoo.com",
         "18",
         "876-137-0119"
        ],
        [
         "Ken",
         "Chang",
         "9845376",
         "M",
         "26",
         105890,
         "bongbonyahoo.com",
         "10",
         "434-987-1200"
        ],
        [
         "Carla",
         "Fisher",
         "9871234",
         "F",
         "28",
         121000,
         "tuyinmg@yahoo.com",
         "3",
         "555-666-9876"
        ],
        [
         "Yinka",
         "Eromonsele",
         "547863",
         "F",
         "29",
         99500,
         "eromonsele@yahoo.com",
         "12",
         "652-653-0987"
        ],
        [
         "Don",
         "Coder",
         "387654",
         "M",
         "30",
         210000,
         "python-Coder@gmail.com",
         "12",
         "540-543-3245"
        ],
        [
         "Islam",
         "Aboubacar",
         "8719865",
         "M",
         "32",
         186100,
         "westerm@yahoo.com",
         "4",
         "540-872-1000"
        ],
        [
         "Emmanuel",
         "Oyekanlu",
         "6111876",
         "M",
         "33",
         237000,
         "manuelbomi@yahoo.com",
         "11",
         "640-137-0000"
        ],
        [
         "Oliver",
         "Twist",
         "7652423",
         "M",
         "33",
         200000,
         "Twister@yahoo.com",
         "7",
         "764-129-9009"
        ],
        [
         "Barry",
         "TightFisted",
         "7864556",
         "M",
         "38",
         115000,
         "boxer@yahoo.com",
         "5",
         "569-432-7654"
        ],
        [
         "Stephen",
         "Smith",
         "9087655",
         "M",
         "38",
         156000,
         "miutss@karen.com",
         "5",
         "234-112-9812"
        ],
        [
         "Molly",
         "Van Modeller",
         "6487653",
         "F",
         "39",
         232000,
         "preacher@yahoo.com",
         "8",
         "765-986-2345"
        ],
        [
         "Henry",
         "Charles",
         "3000127",
         "M",
         "42",
         210000,
         "massie@yahoo.com",
         "7",
         "127-196-5676"
        ],
        [
         "Alhaji",
         "Kareem",
         "87565234",
         "M",
         "44",
         65000,
         "uytrew@yahoo.com",
         "9",
         "543-210-3400"
        ],
        [
         "Meghan",
         "Markle",
         "7645348",
         "M",
         "44",
         91000,
         "Missyr@yahoo.com",
         "2",
         "569-349-1200"
        ],
        [
         "Diddier",
         "Thomas",
         "6347652",
         "M",
         "53",
         237000,
         "potyur@yahoo.com",
         "19",
         "653-239-9876"
        ],
        [
         "Rod",
         "BiggerStewart",
         "698328",
         "M",
         "54",
         76500,
         "BiggerS@yahoo.com",
         "12",
         "640-137-0000"
        ]
       ],
       "datasetInfos": [],
       "dbfsResultPath": null,
       "isJsonSchema": true,
       "metadata": {},
       "overflow": false,
       "plotOptions": {
        "customPlotOptions": {},
        "displayType": "table",
        "pivotAggregation": null,
        "pivotColumns": null,
        "xColumns": null,
        "yColumns": null
       },
       "removedWidgets": [],
       "schema": [
        {
         "metadata": "{}",
         "name": "First_name",
         "type": "\"string\""
        },
        {
         "metadata": "{}",
         "name": "Last_name",
         "type": "\"string\""
        },
        {
         "metadata": "{}",
         "name": "Employee_ID",
         "type": "\"string\""
        },
        {
         "metadata": "{}",
         "name": "Gender",
         "type": "\"string\""
        },
        {
         "metadata": "{}",
         "name": "Age",
         "type": "\"string\""
        },
        {
         "metadata": "{}",
         "name": "Salary_(USD)",
         "type": "\"integer\""
        },
        {
         "metadata": "{}",
         "name": "email_address",
         "type": "\"string\""
        },
        {
         "metadata": "{}",
         "name": "Experience_(yrs)",
         "type": "\"string\""
        },
        {
         "metadata": "{}",
         "name": "Phone_nos",
         "type": "\"string\""
        }
       ],
       "type": "table"
      }
     },
     "output_type": "display_data"
    }
   ],
   "source": [
    "# Sort the data with using a colum of the data\n",
    "employee_data_sorted_df = df_employee.orderBy([\"Age\"])\n",
    "employee_data_sorted_df.display()"
   ]
  },
  {
   "cell_type": "code",
   "execution_count": 0,
   "metadata": {
    "application/vnd.databricks.v1+cell": {
     "cellMetadata": {
      "byteLimit": 2048000,
      "rowLimit": 10000
     },
     "inputWidgets": {},
     "nuid": "18165866-393d-4f29-af64-d6f8eb0777b7",
     "showTitle": false,
     "tableResultSettingsMap": {},
     "title": ""
    }
   },
   "outputs": [
    {
     "output_type": "display_data",
     "data": {
      "text/html": [
       "<style scoped>\n",
       "  .table-result-container {\n",
       "    max-height: 300px;\n",
       "    overflow: auto;\n",
       "  }\n",
       "  table, th, td {\n",
       "    border: 1px solid black;\n",
       "    border-collapse: collapse;\n",
       "  }\n",
       "  th, td {\n",
       "    padding: 5px;\n",
       "  }\n",
       "  th {\n",
       "    text-align: left;\n",
       "  }\n",
       "</style><div class='table-result-container'><table class='table-result'><thead style='background-color: white'><tr><th>Age</th><th>First_name</th><th>Last_name</th><th>Employee_ID</th><th>Gender</th><th>Salary_(USD)</th><th>email_address</th><th>Experience_(yrs)</th><th>Phone_nos</th><th>First_name</th><th>Last_name</th><th>Employee_ID</th><th>Gender</th><th>Salary_(USD)</th><th>email_address</th><th>Experience_(yrs)</th><th>Phone_nos</th></tr></thead><tbody><tr><td>23</td><td>Moses</td><td>Aaron</td><td>9876543</td><td>M</td><td>186000</td><td>Moses@cnn.com</td><td>6</td><td>456-987-2324</td><td>Rex</td><td>Migler</td><td>6647652</td><td>M</td><td>567000</td><td>pouhgr@yahoo.com</td><td>56</td><td>883-239-7776</td></tr><tr><td>32</td><td>Islam</td><td>Aboubacar</td><td>8719865</td><td>M</td><td>186100</td><td>westerm@yahoo.com</td><td>4</td><td>540-872-1000</td><td>MariGold</td><td>Joelyn</td><td>387654</td><td>F</td><td>219870</td><td>eryl@gmail.com</td><td>34</td><td>540-543-3785</td></tr><tr><td>38</td><td>Stephen</td><td>Smith</td><td>9087655</td><td>M</td><td>156000</td><td>miutss@karen.com</td><td>5</td><td>234-112-9812</td><td>Derrick</td><td>Smith</td><td>87655</td><td>M</td><td>100000</td><td>gh@karen.com</td><td>5</td><td>674-112-962</td></tr><tr><td>38</td><td>Barry</td><td>TightFisted</td><td>7864556</td><td>M</td><td>115000</td><td>boxer@yahoo.com</td><td>5</td><td>569-432-7654</td><td>Derrick</td><td>Smith</td><td>87655</td><td>M</td><td>100000</td><td>gh@karen.com</td><td>5</td><td>674-112-962</td></tr><tr><td>39</td><td>Molly</td><td>Van Modeller</td><td>6487653</td><td>F</td><td>232000</td><td>preacher@yahoo.com</td><td>8</td><td>765-986-2345</td><td>Katie</td><td>Henshaw</td><td>304127</td><td>F</td><td>20340</td><td>Kahenshaw@yahoo.com</td><td>5</td><td>497-196-476</td></tr><tr><td>44</td><td>Alhaji</td><td>Kareem</td><td>87565234</td><td>M</td><td>65000</td><td>uytrew@yahoo.com</td><td>9</td><td>543-210-3400</td><td>Casey</td><td>Donner</td><td>1876</td><td>M</td><td>237000</td><td>maryl@yahoo.com</td><td>2</td><td>819-137-060</td></tr><tr><td>44</td><td>Meghan</td><td>Markle</td><td>7645348</td><td>M</td><td>91000</td><td>Missyr@yahoo.com</td><td>2</td><td>569-349-1200</td><td>Casey</td><td>Donner</td><td>1876</td><td>M</td><td>237000</td><td>maryl@yahoo.com</td><td>2</td><td>819-137-060</td></tr></tbody></table></div>"
      ]
     },
     "metadata": {
      "application/vnd.databricks.v1+output": {
       "addedWidgets": {},
       "aggData": [],
       "aggError": "",
       "aggOverflow": false,
       "aggSchema": [],
       "aggSeriesLimitReached": false,
       "aggType": "",
       "arguments": {},
       "columnCustomDisplayInfos": {},
       "data": [
        [
         "23",
         "Moses",
         "Aaron",
         "9876543",
         "M",
         186000,
         "Moses@cnn.com",
         "6",
         "456-987-2324",
         "Rex",
         "Migler",
         "6647652",
         "M",
         567000,
         "pouhgr@yahoo.com",
         "56",
         "883-239-7776"
        ],
        [
         "32",
         "Islam",
         "Aboubacar",
         "8719865",
         "M",
         186100,
         "westerm@yahoo.com",
         "4",
         "540-872-1000",
         "MariGold",
         "Joelyn",
         "387654",
         "F",
         219870,
         "eryl@gmail.com",
         "34",
         "540-543-3785"
        ],
        [
         "38",
         "Stephen",
         "Smith",
         "9087655",
         "M",
         156000,
         "miutss@karen.com",
         "5",
         "234-112-9812",
         "Derrick",
         "Smith",
         "87655",
         "M",
         100000,
         "gh@karen.com",
         "5",
         "674-112-962"
        ],
        [
         "38",
         "Barry",
         "TightFisted",
         "7864556",
         "M",
         115000,
         "boxer@yahoo.com",
         "5",
         "569-432-7654",
         "Derrick",
         "Smith",
         "87655",
         "M",
         100000,
         "gh@karen.com",
         "5",
         "674-112-962"
        ],
        [
         "39",
         "Molly",
         "Van Modeller",
         "6487653",
         "F",
         232000,
         "preacher@yahoo.com",
         "8",
         "765-986-2345",
         "Katie",
         "Henshaw",
         "304127",
         "F",
         20340,
         "Kahenshaw@yahoo.com",
         "5",
         "497-196-476"
        ],
        [
         "44",
         "Alhaji",
         "Kareem",
         "87565234",
         "M",
         65000,
         "uytrew@yahoo.com",
         "9",
         "543-210-3400",
         "Casey",
         "Donner",
         "1876",
         "M",
         237000,
         "maryl@yahoo.com",
         "2",
         "819-137-060"
        ],
        [
         "44",
         "Meghan",
         "Markle",
         "7645348",
         "M",
         91000,
         "Missyr@yahoo.com",
         "2",
         "569-349-1200",
         "Casey",
         "Donner",
         "1876",
         "M",
         237000,
         "maryl@yahoo.com",
         "2",
         "819-137-060"
        ]
       ],
       "datasetInfos": [],
       "dbfsResultPath": null,
       "isJsonSchema": true,
       "metadata": {},
       "overflow": false,
       "plotOptions": {
        "customPlotOptions": {},
        "displayType": "table",
        "pivotAggregation": null,
        "pivotColumns": null,
        "xColumns": null,
        "yColumns": null
       },
       "removedWidgets": [],
       "schema": [
        {
         "metadata": "{}",
         "name": "Age",
         "type": "\"string\""
        },
        {
         "metadata": "{}",
         "name": "First_name",
         "type": "\"string\""
        },
        {
         "metadata": "{}",
         "name": "Last_name",
         "type": "\"string\""
        },
        {
         "metadata": "{}",
         "name": "Employee_ID",
         "type": "\"string\""
        },
        {
         "metadata": "{}",
         "name": "Gender",
         "type": "\"string\""
        },
        {
         "metadata": "{}",
         "name": "Salary_(USD)",
         "type": "\"integer\""
        },
        {
         "metadata": "{}",
         "name": "email_address",
         "type": "\"string\""
        },
        {
         "metadata": "{}",
         "name": "Experience_(yrs)",
         "type": "\"string\""
        },
        {
         "metadata": "{}",
         "name": "Phone_nos",
         "type": "\"string\""
        },
        {
         "metadata": "{}",
         "name": "First_name",
         "type": "\"string\""
        },
        {
         "metadata": "{}",
         "name": "Last_name",
         "type": "\"string\""
        },
        {
         "metadata": "{}",
         "name": "Employee_ID",
         "type": "\"string\""
        },
        {
         "metadata": "{}",
         "name": "Gender",
         "type": "\"string\""
        },
        {
         "metadata": "{}",
         "name": "Salary_(USD)",
         "type": "\"integer\""
        },
        {
         "metadata": "{}",
         "name": "email_address",
         "type": "\"string\""
        },
        {
         "metadata": "{}",
         "name": "Experience_(yrs)",
         "type": "\"string\""
        },
        {
         "metadata": "{}",
         "name": "Phone_nos",
         "type": "\"string\""
        }
       ],
       "type": "table"
      }
     },
     "output_type": "display_data"
    }
   ],
   "source": [
    "# Join two datasets (Inner Join)\n",
    "# Inner join\n",
    "inner_join_df = df_employee.join(another_employee_data, 'Age')\n",
    "inner_join_df.display()"
   ]
  },
  {
   "cell_type": "code",
   "execution_count": 0,
   "metadata": {
    "application/vnd.databricks.v1+cell": {
     "cellMetadata": {
      "byteLimit": 2048000,
      "rowLimit": 10000
     },
     "inputWidgets": {},
     "nuid": "473e0b41-ce2f-4081-9642-4696cfe80714",
     "showTitle": false,
     "tableResultSettingsMap": {},
     "title": ""
    }
   },
   "outputs": [
    {
     "output_type": "display_data",
     "data": {
      "text/html": [
       "<style scoped>\n",
       "  .table-result-container {\n",
       "    max-height: 300px;\n",
       "    overflow: auto;\n",
       "  }\n",
       "  table, th, td {\n",
       "    border: 1px solid black;\n",
       "    border-collapse: collapse;\n",
       "  }\n",
       "  th, td {\n",
       "    padding: 5px;\n",
       "  }\n",
       "  th {\n",
       "    text-align: left;\n",
       "  }\n",
       "</style><div class='table-result-container'><table class='table-result'><thead style='background-color: white'><tr><th>Last_name</th><th>First_name</th><th>Employee_ID</th><th>Gender</th><th>Age</th><th>Salary_(USD)</th><th>email_address</th><th>Experience_(yrs)</th><th>Phone_nos</th><th>First_name</th><th>Employee_ID</th><th>Gender</th><th>Age</th><th>Salary_(USD)</th><th>email_address</th><th>Experience_(yrs)</th><th>Phone_nos</th></tr></thead><tbody><tr><td>Donner</td><td>null</td><td>null</td><td>null</td><td>null</td><td>null</td><td>null</td><td>null</td><td>null</td><td>Casey</td><td>1876</td><td>M</td><td>44</td><td>237000</td><td>maryl@yahoo.com</td><td>2</td><td>819-137-060</td></tr><tr><td>Joelyn</td><td>null</td><td>null</td><td>null</td><td>null</td><td>null</td><td>null</td><td>null</td><td>null</td><td>MariGold</td><td>387654</td><td>F</td><td>32</td><td>219870</td><td>eryl@gmail.com</td><td>34</td><td>540-543-3785</td></tr><tr><td>Henshaw</td><td>null</td><td>null</td><td>null</td><td>null</td><td>null</td><td>null</td><td>null</td><td>null</td><td>Katie</td><td>304127</td><td>F</td><td>39</td><td>20340</td><td>Kahenshaw@yahoo.com</td><td>5</td><td>497-196-476</td></tr><tr><td>Smith</td><td>Stephen</td><td>9087655</td><td>M</td><td>38</td><td>156000</td><td>miutss@karen.com</td><td>5</td><td>234-112-9812</td><td>Derrick</td><td>87655</td><td>M</td><td>38</td><td>100000</td><td>gh@karen.com</td><td>5</td><td>674-112-962</td></tr><tr><td>Aaron</td><td>Moses</td><td>9876543</td><td>M</td><td>23</td><td>186000</td><td>Moses@cnn.com</td><td>6</td><td>456-987-2324</td><td>Debbie</td><td>5667876</td><td>F</td><td>27</td><td>115000</td><td>morel@yahoo.com</td><td>34</td><td>496-47-7919</td></tr><tr><td>Migler</td><td>null</td><td>null</td><td>null</td><td>null</td><td>null</td><td>null</td><td>null</td><td>null</td><td>Rex</td><td>6647652</td><td>M</td><td>23</td><td>567000</td><td>pouhgr@yahoo.com</td><td>56</td><td>883-239-7776</td></tr></tbody></table></div>"
      ]
     },
     "metadata": {
      "application/vnd.databricks.v1+output": {
       "addedWidgets": {},
       "aggData": [],
       "aggError": "",
       "aggOverflow": false,
       "aggSchema": [],
       "aggSeriesLimitReached": false,
       "aggType": "",
       "arguments": {},
       "columnCustomDisplayInfos": {},
       "data": [
        [
         "Donner",
         null,
         null,
         null,
         null,
         null,
         null,
         null,
         null,
         "Casey",
         "1876",
         "M",
         "44",
         237000,
         "maryl@yahoo.com",
         "2",
         "819-137-060"
        ],
        [
         "Joelyn",
         null,
         null,
         null,
         null,
         null,
         null,
         null,
         null,
         "MariGold",
         "387654",
         "F",
         "32",
         219870,
         "eryl@gmail.com",
         "34",
         "540-543-3785"
        ],
        [
         "Henshaw",
         null,
         null,
         null,
         null,
         null,
         null,
         null,
         null,
         "Katie",
         "304127",
         "F",
         "39",
         20340,
         "Kahenshaw@yahoo.com",
         "5",
         "497-196-476"
        ],
        [
         "Smith",
         "Stephen",
         "9087655",
         "M",
         "38",
         156000,
         "miutss@karen.com",
         "5",
         "234-112-9812",
         "Derrick",
         "87655",
         "M",
         "38",
         100000,
         "gh@karen.com",
         "5",
         "674-112-962"
        ],
        [
         "Aaron",
         "Moses",
         "9876543",
         "M",
         "23",
         186000,
         "Moses@cnn.com",
         "6",
         "456-987-2324",
         "Debbie",
         "5667876",
         "F",
         "27",
         115000,
         "morel@yahoo.com",
         "34",
         "496-47-7919"
        ],
        [
         "Migler",
         null,
         null,
         null,
         null,
         null,
         null,
         null,
         null,
         "Rex",
         "6647652",
         "M",
         "23",
         567000,
         "pouhgr@yahoo.com",
         "56",
         "883-239-7776"
        ]
       ],
       "datasetInfos": [],
       "dbfsResultPath": null,
       "isJsonSchema": true,
       "metadata": {},
       "overflow": false,
       "plotOptions": {
        "customPlotOptions": {},
        "displayType": "table",
        "pivotAggregation": null,
        "pivotColumns": null,
        "xColumns": null,
        "yColumns": null
       },
       "removedWidgets": [],
       "schema": [
        {
         "metadata": "{}",
         "name": "Last_name",
         "type": "\"string\""
        },
        {
         "metadata": "{}",
         "name": "First_name",
         "type": "\"string\""
        },
        {
         "metadata": "{}",
         "name": "Employee_ID",
         "type": "\"string\""
        },
        {
         "metadata": "{}",
         "name": "Gender",
         "type": "\"string\""
        },
        {
         "metadata": "{}",
         "name": "Age",
         "type": "\"string\""
        },
        {
         "metadata": "{}",
         "name": "Salary_(USD)",
         "type": "\"integer\""
        },
        {
         "metadata": "{}",
         "name": "email_address",
         "type": "\"string\""
        },
        {
         "metadata": "{}",
         "name": "Experience_(yrs)",
         "type": "\"string\""
        },
        {
         "metadata": "{}",
         "name": "Phone_nos",
         "type": "\"string\""
        },
        {
         "metadata": "{}",
         "name": "First_name",
         "type": "\"string\""
        },
        {
         "metadata": "{}",
         "name": "Employee_ID",
         "type": "\"string\""
        },
        {
         "metadata": "{}",
         "name": "Gender",
         "type": "\"string\""
        },
        {
         "metadata": "{}",
         "name": "Age",
         "type": "\"string\""
        },
        {
         "metadata": "{}",
         "name": "Salary_(USD)",
         "type": "\"integer\""
        },
        {
         "metadata": "{}",
         "name": "email_address",
         "type": "\"string\""
        },
        {
         "metadata": "{}",
         "name": "Experience_(yrs)",
         "type": "\"string\""
        },
        {
         "metadata": "{}",
         "name": "Phone_nos",
         "type": "\"string\""
        }
       ],
       "type": "table"
      }
     },
     "output_type": "display_data"
    }
   ],
   "source": [
    "# Right outer join on 'Last Name'\n",
    "right_outer_join_df = df_employee.join(another_employee_data, 'Last_Name', 'rightouter')\n",
    "right_outer_join_df.display()"
   ]
  },
  {
   "cell_type": "code",
   "execution_count": 0,
   "metadata": {
    "application/vnd.databricks.v1+cell": {
     "cellMetadata": {
      "byteLimit": 2048000,
      "rowLimit": 10000
     },
     "inputWidgets": {},
     "nuid": "b11d2ec9-d30e-4410-814a-b3c08de4f642",
     "showTitle": false,
     "tableResultSettingsMap": {},
     "title": ""
    }
   },
   "outputs": [
    {
     "output_type": "display_data",
     "data": {
      "text/html": [
       "<style scoped>\n",
       "  .table-result-container {\n",
       "    max-height: 300px;\n",
       "    overflow: auto;\n",
       "  }\n",
       "  table, th, td {\n",
       "    border: 1px solid black;\n",
       "    border-collapse: collapse;\n",
       "  }\n",
       "  th, td {\n",
       "    padding: 5px;\n",
       "  }\n",
       "  th {\n",
       "    text-align: left;\n",
       "  }\n",
       "</style><div class='table-result-container'><table class='table-result'><thead style='background-color: white'><tr><th>Last_name</th><th>First_name</th><th>Employee_ID</th><th>Gender</th><th>Age</th><th>Salary_(USD)</th><th>email_address</th><th>Experience_(yrs)</th><th>Phone_nos</th><th>First_name</th><th>Employee_ID</th><th>Gender</th><th>Age</th><th>Salary_(USD)</th><th>email_address</th><th>Experience_(yrs)</th><th>Phone_nos</th></tr></thead><tbody><tr><td>Coder</td><td>Don</td><td>387654</td><td>M</td><td>30</td><td>210000</td><td>python-Coder@gmail.com</td><td>12</td><td>540-543-3245</td><td>null</td><td>null</td><td>null</td><td>null</td><td>null</td><td>null</td><td>null</td><td>null</td></tr><tr><td>Oyekanlu</td><td>Emmanuel</td><td>6111876</td><td>M</td><td>33</td><td>237000</td><td>manuelbomi@yahoo.com</td><td>11</td><td>640-137-0000</td><td>null</td><td>null</td><td>null</td><td>null</td><td>null</td><td>null</td><td>null</td><td>null</td></tr><tr><td>Smith</td><td>Stephen</td><td>9087655</td><td>M</td><td>38</td><td>156000</td><td>miutss@karen.com</td><td>5</td><td>234-112-9812</td><td>Derrick</td><td>87655</td><td>M</td><td>38</td><td>100000</td><td>gh@karen.com</td><td>5</td><td>674-112-962</td></tr><tr><td>Charles</td><td>Henry</td><td>3000127</td><td>M</td><td>42</td><td>210000</td><td>massie@yahoo.com</td><td>7</td><td>127-196-5676</td><td>null</td><td>null</td><td>null</td><td>null</td><td>null</td><td>null</td><td>null</td><td>null</td></tr><tr><td>CarlyWiggle</td><td>Rose</td><td>5609876</td><td>F</td><td>24</td><td>237000</td><td>iutyrr@yahoo.com</td><td>18</td><td>876-137-0119</td><td>null</td><td>null</td><td>null</td><td>null</td><td>null</td><td>null</td><td>null</td><td>null</td></tr><tr><td>Thomas</td><td>Diddier</td><td>6347652</td><td>M</td><td>53</td><td>237000</td><td>potyur@yahoo.com</td><td>19</td><td>653-239-9876</td><td>null</td><td>null</td><td>null</td><td>null</td><td>null</td><td>null</td><td>null</td><td>null</td></tr><tr><td>Fisher</td><td>Carla</td><td>9871234</td><td>F</td><td>28</td><td>121000</td><td>tuyinmg@yahoo.com</td><td>3</td><td>555-666-9876</td><td>null</td><td>null</td><td>null</td><td>null</td><td>null</td><td>null</td><td>null</td><td>null</td></tr><tr><td>Eromonsele</td><td>Yinka</td><td>547863</td><td>F</td><td>29</td><td>99500</td><td>eromonsele@yahoo.com</td><td>12</td><td>652-653-0987</td><td>null</td><td>null</td><td>null</td><td>null</td><td>null</td><td>null</td><td>null</td><td>null</td></tr><tr><td>BiggerStewart</td><td>Rod</td><td>698328</td><td>M</td><td>54</td><td>76500</td><td>BiggerS@yahoo.com</td><td>12</td><td>640-137-0000</td><td>null</td><td>null</td><td>null</td><td>null</td><td>null</td><td>null</td><td>null</td><td>null</td></tr><tr><td>Twist</td><td>Oliver</td><td>7652423</td><td>M</td><td>33</td><td>200000</td><td>Twister@yahoo.com</td><td>7</td><td>764-129-9009</td><td>null</td><td>null</td><td>null</td><td>null</td><td>null</td><td>null</td><td>null</td><td>null</td></tr><tr><td>Van Modeller</td><td>Molly</td><td>6487653</td><td>F</td><td>39</td><td>232000</td><td>preacher@yahoo.com</td><td>8</td><td>765-986-2345</td><td>null</td><td>null</td><td>null</td><td>null</td><td>null</td><td>null</td><td>null</td><td>null</td></tr><tr><td>Aaron</td><td>Moses</td><td>9876543</td><td>M</td><td>23</td><td>186000</td><td>Moses@cnn.com</td><td>6</td><td>456-987-2324</td><td>Debbie</td><td>5667876</td><td>F</td><td>27</td><td>115000</td><td>morel@yahoo.com</td><td>34</td><td>496-47-7919</td></tr><tr><td>TightFisted</td><td>Barry</td><td>7864556</td><td>M</td><td>38</td><td>115000</td><td>boxer@yahoo.com</td><td>5</td><td>569-432-7654</td><td>null</td><td>null</td><td>null</td><td>null</td><td>null</td><td>null</td><td>null</td><td>null</td></tr><tr><td>Chang</td><td>Ken</td><td>9845376</td><td>M</td><td>26</td><td>105890</td><td>bongbonyahoo.com</td><td>10</td><td>434-987-1200</td><td>null</td><td>null</td><td>null</td><td>null</td><td>null</td><td>null</td><td>null</td><td>null</td></tr><tr><td>Markle</td><td>Meghan</td><td>7645348</td><td>M</td><td>44</td><td>91000</td><td>Missyr@yahoo.com</td><td>2</td><td>569-349-1200</td><td>null</td><td>null</td><td>null</td><td>null</td><td>null</td><td>null</td><td>null</td><td>null</td></tr><tr><td>Kareem</td><td>Alhaji</td><td>87565234</td><td>M</td><td>44</td><td>65000</td><td>uytrew@yahoo.com</td><td>9</td><td>543-210-3400</td><td>null</td><td>null</td><td>null</td><td>null</td><td>null</td><td>null</td><td>null</td><td>null</td></tr><tr><td>Aboubacar</td><td>Islam</td><td>8719865</td><td>M</td><td>32</td><td>186100</td><td>westerm@yahoo.com</td><td>4</td><td>540-872-1000</td><td>null</td><td>null</td><td>null</td><td>null</td><td>null</td><td>null</td><td>null</td><td>null</td></tr></tbody></table></div>"
      ]
     },
     "metadata": {
      "application/vnd.databricks.v1+output": {
       "addedWidgets": {},
       "aggData": [],
       "aggError": "",
       "aggOverflow": false,
       "aggSchema": [],
       "aggSeriesLimitReached": false,
       "aggType": "",
       "arguments": {},
       "columnCustomDisplayInfos": {},
       "data": [
        [
         "Coder",
         "Don",
         "387654",
         "M",
         "30",
         210000,
         "python-Coder@gmail.com",
         "12",
         "540-543-3245",
         null,
         null,
         null,
         null,
         null,
         null,
         null,
         null
        ],
        [
         "Oyekanlu",
         "Emmanuel",
         "6111876",
         "M",
         "33",
         237000,
         "manuelbomi@yahoo.com",
         "11",
         "640-137-0000",
         null,
         null,
         null,
         null,
         null,
         null,
         null,
         null
        ],
        [
         "Smith",
         "Stephen",
         "9087655",
         "M",
         "38",
         156000,
         "miutss@karen.com",
         "5",
         "234-112-9812",
         "Derrick",
         "87655",
         "M",
         "38",
         100000,
         "gh@karen.com",
         "5",
         "674-112-962"
        ],
        [
         "Charles",
         "Henry",
         "3000127",
         "M",
         "42",
         210000,
         "massie@yahoo.com",
         "7",
         "127-196-5676",
         null,
         null,
         null,
         null,
         null,
         null,
         null,
         null
        ],
        [
         "CarlyWiggle",
         "Rose",
         "5609876",
         "F",
         "24",
         237000,
         "iutyrr@yahoo.com",
         "18",
         "876-137-0119",
         null,
         null,
         null,
         null,
         null,
         null,
         null,
         null
        ],
        [
         "Thomas",
         "Diddier",
         "6347652",
         "M",
         "53",
         237000,
         "potyur@yahoo.com",
         "19",
         "653-239-9876",
         null,
         null,
         null,
         null,
         null,
         null,
         null,
         null
        ],
        [
         "Fisher",
         "Carla",
         "9871234",
         "F",
         "28",
         121000,
         "tuyinmg@yahoo.com",
         "3",
         "555-666-9876",
         null,
         null,
         null,
         null,
         null,
         null,
         null,
         null
        ],
        [
         "Eromonsele",
         "Yinka",
         "547863",
         "F",
         "29",
         99500,
         "eromonsele@yahoo.com",
         "12",
         "652-653-0987",
         null,
         null,
         null,
         null,
         null,
         null,
         null,
         null
        ],
        [
         "BiggerStewart",
         "Rod",
         "698328",
         "M",
         "54",
         76500,
         "BiggerS@yahoo.com",
         "12",
         "640-137-0000",
         null,
         null,
         null,
         null,
         null,
         null,
         null,
         null
        ],
        [
         "Twist",
         "Oliver",
         "7652423",
         "M",
         "33",
         200000,
         "Twister@yahoo.com",
         "7",
         "764-129-9009",
         null,
         null,
         null,
         null,
         null,
         null,
         null,
         null
        ],
        [
         "Van Modeller",
         "Molly",
         "6487653",
         "F",
         "39",
         232000,
         "preacher@yahoo.com",
         "8",
         "765-986-2345",
         null,
         null,
         null,
         null,
         null,
         null,
         null,
         null
        ],
        [
         "Aaron",
         "Moses",
         "9876543",
         "M",
         "23",
         186000,
         "Moses@cnn.com",
         "6",
         "456-987-2324",
         "Debbie",
         "5667876",
         "F",
         "27",
         115000,
         "morel@yahoo.com",
         "34",
         "496-47-7919"
        ],
        [
         "TightFisted",
         "Barry",
         "7864556",
         "M",
         "38",
         115000,
         "boxer@yahoo.com",
         "5",
         "569-432-7654",
         null,
         null,
         null,
         null,
         null,
         null,
         null,
         null
        ],
        [
         "Chang",
         "Ken",
         "9845376",
         "M",
         "26",
         105890,
         "bongbonyahoo.com",
         "10",
         "434-987-1200",
         null,
         null,
         null,
         null,
         null,
         null,
         null,
         null
        ],
        [
         "Markle",
         "Meghan",
         "7645348",
         "M",
         "44",
         91000,
         "Missyr@yahoo.com",
         "2",
         "569-349-1200",
         null,
         null,
         null,
         null,
         null,
         null,
         null,
         null
        ],
        [
         "Kareem",
         "Alhaji",
         "87565234",
         "M",
         "44",
         65000,
         "uytrew@yahoo.com",
         "9",
         "543-210-3400",
         null,
         null,
         null,
         null,
         null,
         null,
         null,
         null
        ],
        [
         "Aboubacar",
         "Islam",
         "8719865",
         "M",
         "32",
         186100,
         "westerm@yahoo.com",
         "4",
         "540-872-1000",
         null,
         null,
         null,
         null,
         null,
         null,
         null,
         null
        ]
       ],
       "datasetInfos": [],
       "dbfsResultPath": null,
       "isJsonSchema": true,
       "metadata": {},
       "overflow": false,
       "plotOptions": {
        "customPlotOptions": {},
        "displayType": "table",
        "pivotAggregation": null,
        "pivotColumns": null,
        "xColumns": null,
        "yColumns": null
       },
       "removedWidgets": [],
       "schema": [
        {
         "metadata": "{}",
         "name": "Last_name",
         "type": "\"string\""
        },
        {
         "metadata": "{}",
         "name": "First_name",
         "type": "\"string\""
        },
        {
         "metadata": "{}",
         "name": "Employee_ID",
         "type": "\"string\""
        },
        {
         "metadata": "{}",
         "name": "Gender",
         "type": "\"string\""
        },
        {
         "metadata": "{}",
         "name": "Age",
         "type": "\"string\""
        },
        {
         "metadata": "{}",
         "name": "Salary_(USD)",
         "type": "\"integer\""
        },
        {
         "metadata": "{}",
         "name": "email_address",
         "type": "\"string\""
        },
        {
         "metadata": "{}",
         "name": "Experience_(yrs)",
         "type": "\"string\""
        },
        {
         "metadata": "{}",
         "name": "Phone_nos",
         "type": "\"string\""
        },
        {
         "metadata": "{}",
         "name": "First_name",
         "type": "\"string\""
        },
        {
         "metadata": "{}",
         "name": "Employee_ID",
         "type": "\"string\""
        },
        {
         "metadata": "{}",
         "name": "Gender",
         "type": "\"string\""
        },
        {
         "metadata": "{}",
         "name": "Age",
         "type": "\"string\""
        },
        {
         "metadata": "{}",
         "name": "Salary_(USD)",
         "type": "\"integer\""
        },
        {
         "metadata": "{}",
         "name": "email_address",
         "type": "\"string\""
        },
        {
         "metadata": "{}",
         "name": "Experience_(yrs)",
         "type": "\"string\""
        },
        {
         "metadata": "{}",
         "name": "Phone_nos",
         "type": "\"string\""
        }
       ],
       "type": "table"
      }
     },
     "output_type": "display_data"
    }
   ],
   "source": [
    "# left outer join on 'Last Name'\n",
    "left_outer_join_df = df_employee.join(another_employee_data, 'Last_Name', 'leftouter')\n",
    "left_outer_join_df.display()"
   ]
  },
  {
   "cell_type": "markdown",
   "metadata": {
    "application/vnd.databricks.v1+cell": {
     "cellMetadata": {},
     "inputWidgets": {},
     "nuid": "1767773a-d72d-40b6-a8ad-981256d377c3",
     "showTitle": false,
     "tableResultSettingsMap": {},
     "title": ""
    }
   },
   "source": [
    "Collating/Imploding Multiple Data Columns into a Single Column"
   ]
  },
  {
   "cell_type": "code",
   "execution_count": 0,
   "metadata": {
    "application/vnd.databricks.v1+cell": {
     "cellMetadata": {
      "byteLimit": 2048000,
      "rowLimit": 10000
     },
     "inputWidgets": {},
     "nuid": "cf97fce5-3c66-4986-9302-48e9b92008a0",
     "showTitle": false,
     "tableResultSettingsMap": {},
     "title": ""
    }
   },
   "outputs": [
    {
     "output_type": "stream",
     "name": "stdout",
     "output_type": "stream",
     "text": [
      "root\n |-- First_name: string (nullable = true)\n |-- Last_name: string (nullable = true)\n |-- Employee_ID: string (nullable = true)\n |-- Gender: string (nullable = true)\n |-- email_address: string (nullable = true)\n |-- Phone_nos: string (nullable = true)\n |-- EmployeesDetails: map (nullable = false)\n |    |-- key: string\n |    |-- value: string (valueContainsNull = true)\n\n"
     ]
    }
   ],
   "source": [
    "# Convert columns to Map\n",
    "# Merge several columns to become a single column\n",
    "# Merge the 'Salary, Experience, Age' colums to become a single column \"EmployeeDetails\"\n",
    "from pyspark.sql.functions import col,lit,create_map\n",
    "df_employee = df_employee.withColumn(\"EmployeesDetails\",create_map(\n",
    "        lit(\"salary\"),col(\"Salary_(USD)\"),\n",
    "        lit(\"experience\"),col(\"Experience_(yrs)\"),\n",
    "        lit(\"age\"),col(\"Age\")\n",
    "        )).drop(\"Salary_(USD)\",\"Experience_(yrs)\", \"Age\")\n",
    "df_employee.printSchema()\n",
    "\n"
   ]
  },
  {
   "cell_type": "code",
   "execution_count": 0,
   "metadata": {
    "application/vnd.databricks.v1+cell": {
     "cellMetadata": {
      "byteLimit": 2048000,
      "rowLimit": 10000
     },
     "inputWidgets": {},
     "nuid": "7c2c24d4-e717-4769-805f-d952ed8db6e9",
     "showTitle": false,
     "tableResultSettingsMap": {},
     "title": ""
    }
   },
   "outputs": [
    {
     "output_type": "stream",
     "name": "stdout",
     "output_type": "stream",
     "text": [
      "+----------+-------------+-----------+------+----------------------+------------+-----------------------------------------------+\n|First_name|Last_name    |Employee_ID|Gender|email_address         |Phone_nos   |EmployeesDetails                               |\n+----------+-------------+-----------+------+----------------------+------------+-----------------------------------------------+\n|Emmanuel  |Oyekanlu     |6111876    |M     |manuelbomi@yahoo.com  |640-137-0000|{salary -> 237000, experience -> 11, age -> 33}|\n|Don       |Coder        |387654     |M     |python-Coder@gmail.com|540-543-3245|{salary -> 210000, experience -> 12, age -> 30}|\n|Henry     |Charles      |3000127    |M     |massie@yahoo.com      |127-196-5676|{salary -> 210000, experience -> 7, age -> 42} |\n|Stephen   |Smith        |9087655    |M     |miutss@karen.com      |234-112-9812|{salary -> 156000, experience -> 5, age -> 38} |\n|Rose      |CarlyWiggle  |5609876    |F     |iutyrr@yahoo.com      |876-137-0119|{salary -> 237000, experience -> 18, age -> 24}|\n|Diddier   |Thomas       |6347652    |M     |potyur@yahoo.com      |653-239-9876|{salary -> 237000, experience -> 19, age -> 53}|\n|Carla     |Fisher       |9871234    |F     |tuyinmg@yahoo.com     |555-666-9876|{salary -> 121000, experience -> 3, age -> 28} |\n|Yinka     |Eromonsele   |547863     |F     |eromonsele@yahoo.com  |652-653-0987|{salary -> 99500, experience -> 12, age -> 29} |\n|Rod       |BiggerStewart|698328     |M     |BiggerS@yahoo.com     |640-137-0000|{salary -> 76500, experience -> 12, age -> 54} |\n|Oliver    |Twist        |7652423    |M     |Twister@yahoo.com     |764-129-9009|{salary -> 200000, experience -> 7, age -> 33} |\n|Moses     |Aaron        |9876543    |M     |Moses@cnn.com         |456-987-2324|{salary -> 186000, experience -> 6, age -> 23} |\n|Molly     |Van Modeller |6487653    |F     |preacher@yahoo.com    |765-986-2345|{salary -> 232000, experience -> 8, age -> 39} |\n|Barry     |TightFisted  |7864556    |M     |boxer@yahoo.com       |569-432-7654|{salary -> 115000, experience -> 5, age -> 38} |\n|Ken       |Chang        |9845376    |M     |bongbonyahoo.com      |434-987-1200|{salary -> 105890, experience -> 10, age -> 26}|\n|Alhaji    |Kareem       |87565234   |M     |uytrew@yahoo.com      |543-210-3400|{salary -> 65000, experience -> 9, age -> 44}  |\n|Islam     |Aboubacar    |8719865    |M     |westerm@yahoo.com     |540-872-1000|{salary -> 186100, experience -> 4, age -> 32} |\n|Meghan    |Markle       |7645348    |M     |Missyr@yahoo.com      |569-349-1200|{salary -> 91000, experience -> 2, age -> 44}  |\n+----------+-------------+-----------+------+----------------------+------------+-----------------------------------------------+\n\n"
     ]
    }
   ],
   "source": [
    "df_employee.show(truncate=False)"
   ]
  },
  {
   "cell_type": "code",
   "execution_count": 0,
   "metadata": {
    "application/vnd.databricks.v1+cell": {
     "cellMetadata": {
      "byteLimit": 2048000,
      "rowLimit": 10000
     },
     "inputWidgets": {},
     "nuid": "ba208356-b04c-45a6-aac2-ebe1321d9f40",
     "showTitle": false,
     "tableResultSettingsMap": {},
     "title": ""
    }
   },
   "outputs": [
    {
     "output_type": "display_data",
     "data": {
      "text/plain": [
       ""
      ]
     },
     "metadata": {
      "application/vnd.databricks.v1+output": {
       "arguments": {},
       "data": "",
       "errorSummary": "Command skipped",
       "errorTraceType": "ansi",
       "metadata": {},
       "type": "ipynbError"
      }
     },
     "output_type": "display_data"
    }
   ],
   "source": [
    "# spark.stop()"
   ]
  },
  {
   "cell_type": "code",
   "execution_count": 0,
   "metadata": {
    "application/vnd.databricks.v1+cell": {
     "cellMetadata": {
      "byteLimit": 2048000,
      "rowLimit": 10000
     },
     "inputWidgets": {},
     "nuid": "a1dd43dd-a3af-4b07-9201-05544bf2dbfd",
     "showTitle": false,
     "tableResultSettingsMap": {},
     "title": ""
    }
   },
   "outputs": [
    {
     "output_type": "display_data",
     "data": {
      "text/plain": [
       ""
      ]
     },
     "metadata": {
      "application/vnd.databricks.v1+output": {
       "arguments": {},
       "data": "",
       "errorSummary": "Command skipped",
       "errorTraceType": "ansi",
       "metadata": {},
       "type": "ipynbError"
      }
     },
     "output_type": "display_data"
    }
   ],
   "source": [
    "#### Other data\n",
    "# import pyspark\n",
    "# from pyspark.sql import SparkSession\n",
    "# from pyspark.sql.types import StructType,StructField, StringType, IntegerType\n",
    "\n",
    "# spark = SparkSession.builder.master(\"local[1]\") \\\n",
    "#                     .appName('Data_Modelling_on_AWS_Databricks_with_Spark') \\\n",
    "#                     .getOrCreate()\n",
    "\n",
    "# employee_data2 = [(\"Emmanuel\", \"Oyekanlu\", \"6111876\", \"M\", 33, \"330 CI Way, Kentucky, KI 7634\", 237000, \"Married\", \"manuelbomi@yahoo.com\", 11, \"640-137-0000\"),\n",
    "#                   (\"Don\", \"Coder\", \"387654\", \"M\", 30, \"118 College Drive, Kentucky, KI 76542\", 210000, \"Single\", \"python-Coder@gmail.com\", 12, \"540-543-3245\"), \n",
    "#                   (\"Henry\", \"Charles\", \"3000127\", \"M\", 42, \"54 College Drive, Kentucky, KI 76542\", 210000, \"Single\", \"massie@yahoo.com\", 7, \"127-196-5676\"),\n",
    "#                   (\"Stephen\", \"Smith\", \"9087655\", \"M\", 38, \"2204 Market Lane, Kentucky, KI 9087\", 156000, \"Relationship\", \"miutss@karen.com\", 5, \"234-112-9812\"),\n",
    "#                   (\"Rose\", \"CarlyWiggle\", \"5609876\", \"F\", 24, \"1902 Washington Way, Kentucky, KI 5467\", 237000, \"Single\", \"iutyrr@yahoo.com\", 18, \"876-137-0119\"),\n",
    "#                   (\"Diddier\", \"Thomas\", \"6347652\", \"M\", 53, \"184 College Drive, Kentucky, KI 76542\", 237000, \"Married\", \"potyur@yahoo.com\", 19, \"653-239-9876\"),\n",
    "#                   (\"Carla\", \"Fisher\", \"9871234\", \"F\", 28, \"184 CI Way, Kentucky, KI 7634\", 121000, \"Single\", \"tuyinmg@yahoo.com\", 3, \"555-666-9876\"),\n",
    "#                   (\"Yinka\", \"Eromonsele\", \"547863\", \"F\", 29, \"660 CI Way, Kentucky, KI 7634\", 99500, \"Married\", \"eromonsele@yahoo.com\", 12, \"652-653-0987\"),\n",
    "#                   (\"Rod\", \"BiggerStewart\", \"698328\", \"M\", 54, \"12 West Pine Stree, Kentucky, KI 7645\", 76500, \"Relationship\", \"BiggerS@yahoo.com\", 12, \"640-137-0000\"),\n",
    "#                   (\"Oliver\", \"Twist\", \"7652423\", \"M\", 33, \"22 West Pine Stree, Kentucky, KI 7645\", 200000, \"Married\", \"Twister@yahoo.com\", 7, \"764-129-9009\"),\n",
    "#                   (\"Moses\", \"Aaron\", \"9876543\", \"M\", 23, \"1006 East Pine Stree, Kentucky, KI 7645\", 186000, \"Relationship\", \"Moses@cnn.com\", 6, \"456-987-2324\"),\n",
    "#                   (\"Molly\", \"Van Modeller\", \"6487653\", \"F\", 39, \"2987 Market Lane, Kentucky, KI 9087\", 232000, \"Married\", \"preacher@yahoo.com\", 8, \"765-986-2345\"),\n",
    "#                   (\"Barry\", \"TightFisted\", \"7864556\", \"M\", 38, \"187 College Drive, Kentucky, KI 76542\", 115000, \"Single\", \"boxer@yahoo.com\", 5, \"569-432-7654\"),\n",
    "#                   (\"Ken\", \"Chang\", \"9845376\", \"M\", 26, \"61 Horseheads Dr, Kentucky, KI 78759\", 105890, \"Married\", \"bongbonyahoo.com\", 10, \"434-987-1200\"),\n",
    "#                   (\"Alhaji\", \"Kareem\", \"87565234\", \"M\", 44, \"I8 Painted Post Dr, Kentucky, KI 7634\", 65000, \"Relationship\", \"uytrew@yahoo.com\", 9, \"543-210-3400\"),\n",
    "#                   (\"Islam\", \"Aboubacar\", \"8719865\", \"M\", 32, \"Vero Candy Way, Kentucky, KI 7634\", 186100, \"Single\", \"westerm@yahoo.com\", 4, \"540-872-1000\"),\n",
    "#                   (\"Meghan\", \"Markle\", \"7645348\", \"M\", 44, \"1007 CI Way, Kentucky, KI 7634\", 91000, \"Married\", \"Missyr@yahoo.com\", 2, \"569-349-1200\")\n",
    "#                   ]\n",
    "\n",
    "\n",
    "# schema_employee = StructType([ \\\n",
    "#     StructField(\"First_name\",    StringType(), True), \\\n",
    "#     StructField(\"Last_name\",     StringType(), True), \\\n",
    "#     StructField(\"Employee_ID\",   StringType(), True), \\\n",
    "#     StructField(\"Gender\",        StringType(), True), \\\n",
    "#     StructField(\"Age\",           StringType(), True), \\\n",
    "#     StructField(\"Address\",       StringType(), True), \\\n",
    "#     StructField(\"Salary (USD)\",     IntegerType(), True), \\\n",
    "#     StructField(\"Marital_Status\",   StringType(), True), \\\n",
    "#     StructField(\"email_address\",        StringType(), True), \\\n",
    "#     StructField(\"Years_of_experience\",  StringType(), True), \\\n",
    "#     StructField(\"Phone_nos\",           StringType(), True), \\\n",
    "                                                                                      \n",
    "  \n",
    "   \n",
    "\n",
    "#   ])\n",
    "\n",
    "# df_employee = spark.createDataFrame(data=employee_data2 ,schema=schema_employee)\n",
    "# df_employee.printSchema()"
   ]
  }
 ],
 "metadata": {
  "application/vnd.databricks.v1+notebook": {
   "computePreferences": null,
   "dashboards": [],
   "environmentMetadata": {
    "base_environment": "",
    "environment_version": "1"
   },
   "inputWidgetPreferences": null,
   "language": "python",
   "notebookMetadata": {
    "pythonIndentUnit": 4
   },
   "notebookName": "Data_Modelling_on_AWS_Databricks_with_Spark_Examples_&_Discussion",
   "widgets": {}
  }
 },
 "nbformat": 4,
 "nbformat_minor": 0
}